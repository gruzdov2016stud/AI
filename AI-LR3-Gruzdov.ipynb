{
 "cells": [
  {
   "cell_type": "markdown",
   "metadata": {
    "pycharm": {
     "name": "#%% md\n"
    }
   },
   "source": [
    "<html>\n",
    "<head>\n",
    "\t<title></title>\n",
    "</head>\n",
    "<body>\n",
    "<h2 style=\"text-align: center;line-height: 120%;\">ФЕДЕРАЛЬНОЕ ГОСУДАРСТВЕННОЕ БЮДЖЕТНОЕ ОБРАЗОВАТЕЛЬНОЕ УЧРЕЖДЕНИЕ ВЫСШЕГО ОБРАЗОВАНИЯ НАЦИОНАЛЬНЫЙ ИССЛЕДОВАТЕЛЬСКИЙ УНИВЕРСИТЕТ «МОСКОВСКИЙ ЭНЕРГЕТИЧЕСКИЙ ИНСТИТУТ»\n",
    "Кафедра «РЗиАЭ»</h2>\n",
    "<h2 style=\"text-align: center;line-height: 20%;\">Лабораторная работа №3</h2>\n",
    "\n",
    "<h3 style=\"text-align: center;line-height: 80%;\"><em>РЕШАЮЩЕЕ ДЕРЕВО. КОМПОЗИЦИИ РЕШАЮЩИХ ДЕРЕВЬЕВ. МНОГОСЛОЙНЫЙ ПЕРЦЕПТРОН.</em></h3>\n",
    "\n",
    "<p style=\"text-align: right;line-height: 40%;\">Выполнил: студент группы Э-13м-21</p>\n",
    "\n",
    "<p style=\"text-align: right;line-height: 40%;\">Груздов А.Г.</p>\n",
    "\n",
    "<p style=\"text-align: right;line-height: 40%;\">Проверил: Нухулов С.М., Малютин М.С.</p>\n",
    "<h4 style=\"text-align: center;line-height: 100%;\"><em> Москва, 2022</em></h3>\n",
    "</body>\n",
    "</html>"
   ]
  },
  {
   "cell_type": "markdown",
   "metadata": {
    "pycharm": {
     "name": "#%% md\n"
    }
   },
   "source": [
    "<h2>Целью работы</h2>\n",
    "\n",
    "является получение практических навыков работы с моделями решающего дерева, композиций решающих деревьев и нейронных\n",
    "сетей в программной среде Python.\n",
    "<ol>\n",
    "<li>Анализ, предварительную предобработку и визуализацию данных.</li>\n",
    "<li>Обучение и применение моделей решающего дерева, случайного леса, градиентного бустинга и нейронных сетей с оптимальными параметрами на двух наборах данных.</li>\n",
    "<li>Построение и визуализация метрики качества для обучающегонабора данных и тестового.</li>\n",
    "</ol>"
   ]
  },
  {
   "cell_type": "code",
   "execution_count": 2,
   "metadata": {
    "pycharm": {
     "name": "#%%\n"
    }
   },
   "outputs": [
    {
     "data": {
      "text/html": [
       "<div>\n",
       "<style scoped>\n",
       "    .dataframe tbody tr th:only-of-type {\n",
       "        vertical-align: middle;\n",
       "    }\n",
       "\n",
       "    .dataframe tbody tr th {\n",
       "        vertical-align: top;\n",
       "    }\n",
       "\n",
       "    .dataframe thead th {\n",
       "        text-align: right;\n",
       "    }\n",
       "</style>\n",
       "<table border=\"1\" class=\"dataframe\">\n",
       "  <thead>\n",
       "    <tr style=\"text-align: right;\">\n",
       "      <th></th>\n",
       "      <th>age</th>\n",
       "      <th>workclass</th>\n",
       "      <th>fnlwgt</th>\n",
       "      <th>education</th>\n",
       "      <th>education_num</th>\n",
       "      <th>marital_status</th>\n",
       "      <th>occupation</th>\n",
       "      <th>relationship</th>\n",
       "      <th>race</th>\n",
       "      <th>sex</th>\n",
       "      <th>capital_gain</th>\n",
       "      <th>capital_loss</th>\n",
       "      <th>hours_per_week</th>\n",
       "      <th>native_country</th>\n",
       "      <th>income</th>\n",
       "    </tr>\n",
       "  </thead>\n",
       "  <tbody>\n",
       "    <tr>\n",
       "      <th>0</th>\n",
       "      <td>39</td>\n",
       "      <td>State-gov</td>\n",
       "      <td>77516</td>\n",
       "      <td>Bachelors</td>\n",
       "      <td>13</td>\n",
       "      <td>Never-married</td>\n",
       "      <td>Adm-clerical</td>\n",
       "      <td>Not-in-family</td>\n",
       "      <td>White</td>\n",
       "      <td>Male</td>\n",
       "      <td>2174</td>\n",
       "      <td>0</td>\n",
       "      <td>40</td>\n",
       "      <td>United-States</td>\n",
       "      <td>&lt;=50K</td>\n",
       "    </tr>\n",
       "    <tr>\n",
       "      <th>1</th>\n",
       "      <td>50</td>\n",
       "      <td>Self-emp-not-inc</td>\n",
       "      <td>83311</td>\n",
       "      <td>Bachelors</td>\n",
       "      <td>13</td>\n",
       "      <td>Married-civ-spouse</td>\n",
       "      <td>Exec-managerial</td>\n",
       "      <td>Husband</td>\n",
       "      <td>White</td>\n",
       "      <td>Male</td>\n",
       "      <td>0</td>\n",
       "      <td>0</td>\n",
       "      <td>13</td>\n",
       "      <td>United-States</td>\n",
       "      <td>&lt;=50K</td>\n",
       "    </tr>\n",
       "    <tr>\n",
       "      <th>2</th>\n",
       "      <td>38</td>\n",
       "      <td>Private</td>\n",
       "      <td>215646</td>\n",
       "      <td>HS-grad</td>\n",
       "      <td>9</td>\n",
       "      <td>Divorced</td>\n",
       "      <td>Handlers-cleaners</td>\n",
       "      <td>Not-in-family</td>\n",
       "      <td>White</td>\n",
       "      <td>Male</td>\n",
       "      <td>0</td>\n",
       "      <td>0</td>\n",
       "      <td>40</td>\n",
       "      <td>United-States</td>\n",
       "      <td>&lt;=50K</td>\n",
       "    </tr>\n",
       "    <tr>\n",
       "      <th>3</th>\n",
       "      <td>53</td>\n",
       "      <td>Private</td>\n",
       "      <td>234721</td>\n",
       "      <td>11th</td>\n",
       "      <td>7</td>\n",
       "      <td>Married-civ-spouse</td>\n",
       "      <td>Handlers-cleaners</td>\n",
       "      <td>Husband</td>\n",
       "      <td>Black</td>\n",
       "      <td>Male</td>\n",
       "      <td>0</td>\n",
       "      <td>0</td>\n",
       "      <td>40</td>\n",
       "      <td>United-States</td>\n",
       "      <td>&lt;=50K</td>\n",
       "    </tr>\n",
       "    <tr>\n",
       "      <th>4</th>\n",
       "      <td>28</td>\n",
       "      <td>Private</td>\n",
       "      <td>338409</td>\n",
       "      <td>Bachelors</td>\n",
       "      <td>13</td>\n",
       "      <td>Married-civ-spouse</td>\n",
       "      <td>Prof-specialty</td>\n",
       "      <td>Wife</td>\n",
       "      <td>Black</td>\n",
       "      <td>Female</td>\n",
       "      <td>0</td>\n",
       "      <td>0</td>\n",
       "      <td>40</td>\n",
       "      <td>Cuba</td>\n",
       "      <td>&lt;=50K</td>\n",
       "    </tr>\n",
       "  </tbody>\n",
       "</table>\n",
       "</div>"
      ],
      "text/plain": [
       "   age          workclass  fnlwgt   education  education_num  \\\n",
       "0   39          State-gov   77516   Bachelors             13   \n",
       "1   50   Self-emp-not-inc   83311   Bachelors             13   \n",
       "2   38            Private  215646     HS-grad              9   \n",
       "3   53            Private  234721        11th              7   \n",
       "4   28            Private  338409   Bachelors             13   \n",
       "\n",
       "        marital_status          occupation    relationship    race      sex  \\\n",
       "0        Never-married        Adm-clerical   Not-in-family   White     Male   \n",
       "1   Married-civ-spouse     Exec-managerial         Husband   White     Male   \n",
       "2             Divorced   Handlers-cleaners   Not-in-family   White     Male   \n",
       "3   Married-civ-spouse   Handlers-cleaners         Husband   Black     Male   \n",
       "4   Married-civ-spouse      Prof-specialty            Wife   Black   Female   \n",
       "\n",
       "   capital_gain  capital_loss  hours_per_week  native_country  income  \n",
       "0          2174             0              40   United-States   <=50K  \n",
       "1             0             0              13   United-States   <=50K  \n",
       "2             0             0              40   United-States   <=50K  \n",
       "3             0             0              40   United-States   <=50K  \n",
       "4             0             0              40            Cuba   <=50K  "
      ]
     },
     "execution_count": 2,
     "metadata": {},
     "output_type": "execute_result"
    }
   ],
   "source": [
    "import numpy as np\n",
    "import pandas as pd\n",
    "from time import time\n",
    "import matplotlib.pyplot as plt\n",
    "import seaborn as sns\n",
    "from sklearn.preprocessing import LabelEncoder\n",
    "from sklearn.model_selection import train_test_split\n",
    "import warnings\n",
    "warnings.filterwarnings(\"ignore\")\n",
    "\n",
    "# Чтение файла датасета\n",
    "df = pd.read_csv('source/income.csv')\n",
    "df.head()"
   ]
  },
  {
   "cell_type": "markdown",
   "metadata": {
    "pycharm": {
     "name": "#%% md\n"
    }
   },
   "source": [
    "<h3> Пункт 2.1-2.2: воспользуемся методами isnull() и sum() класса DataFrame. воспользуемся методом класса hist()</h3>\n"
   ]
  },
  {
   "cell_type": "code",
   "execution_count": 2,
   "metadata": {
    "pycharm": {
     "name": "#%%\n"
    }
   },
   "outputs": [
    {
     "data": {
      "image/png": "[encoded data removed]",
      "text/plain": [
       "<Figure size 432x288 with 1 Axes>"
      ]
     },
     "metadata": {
      "needs_background": "light"
     },
     "output_type": "display_data"
    }
   ],
   "source": [
    "df['workclass'].hist(xlabelsize=12, xrot=45, ylabelsize=12)\n",
    "plt.xlabel('Workclass')\n",
    "plt.ylabel(\"Number Of Peoples\");"
   ]
  },
  {
   "cell_type": "markdown",
   "metadata": {
    "pycharm": {
     "name": "#%% md\n"
    }
   },
   "source": [
    "<h3> Пункт 2.3 Визуализировать совмещенные гистограммы объектов по признаку «income» для двух значений признака «sex» на одном графике.</h3>"
   ]
  },
  {
   "cell_type": "code",
   "execution_count": 3,
   "metadata": {
    "pycharm": {
     "name": "#%%\n"
    }
   },
   "outputs": [
    {
     "data": {
      "image/png": "[encoded data removed]",
      "text/plain": [
       "<Figure size 576x432 with 1 Axes>"
      ]
     },
     "metadata": {
      "needs_background": "light"
     },
     "output_type": "display_data"
    }
   ],
   "source": [
    "f, ax = plt.subplots(figsize=(8, 6))\n",
    "ax = sns.countplot(x=\"income\", hue=\"sex\", data=df, palette=\"Set1\")\n",
    "ax.set_title(\"Frequency distribution of income variable wrt sex\")\n",
    "plt.show()"
   ]
  },
  {
   "cell_type": "markdown",
   "metadata": {
    "pycharm": {
     "name": "#%% md\n"
    }
   },
   "source": [
    "<h3> Пункт 2.4 Визуализировать совмещенные гистограммы объектов по признаку «income» для всех значений признака «race» на одном графике.</h3>"
   ]
  },
  {
   "cell_type": "code",
   "execution_count": 4,
   "metadata": {
    "pycharm": {
     "name": "#%%\n"
    }
   },
   "outputs": [
    {
     "data": {
      "image/png": "[encoded data removed]",
      "text/plain": [
       "<Figure size 576x432 with 1 Axes>"
      ]
     },
     "metadata": {
      "needs_background": "light"
     },
     "output_type": "display_data"
    }
   ],
   "source": [
    "f, ax = plt.subplots(figsize=(8, 6))\n",
    "ax = sns.countplot(x=\"income\", hue=\"race\", data=df, palette=\"Set2\")\n",
    "ax.set_title(\"Frequency distribution of income variable wrt race\")\n",
    "plt.show()"
   ]
  },
  {
   "cell_type": "markdown",
   "metadata": {
    "pycharm": {
     "name": "#%% md\n"
    }
   },
   "source": [
    "<h3> Пункт 2.5 Визуализировать совмещенные гистограммы объектов по признаку «workclass» для двух значений признака «income» на одном.</h3>"
   ]
  },
  {
   "cell_type": "code",
   "execution_count": 5,
   "metadata": {
    "pycharm": {
     "name": "#%%\n"
    }
   },
   "outputs": [
    {
     "data": {
      "image/png": "[encoded data removed]",
      "text/plain": [
       "<Figure size 864x432 with 1 Axes>"
      ]
     },
     "metadata": {
      "needs_background": "light"
     },
     "output_type": "display_data"
    }
   ],
   "source": [
    "f, ax = plt.subplots(figsize=(12, 6))\n",
    "ax = sns.countplot(x=\"workclass\", hue=\"income\", data=df, palette=\"Set3\")\n",
    "ax.set_title(\"Frequency distribution of the variable workclass by income\")\n",
    "plt.show()"
   ]
  },
  {
   "cell_type": "markdown",
   "metadata": {
    "pycharm": {
     "name": "#%% md\n"
    }
   },
   "source": [
    "<h3> Пункт 2.6 Визуализировать совмещенные гистограммы объектов по признаку «workclass» для двух значений признака «sex» на одном.</h3>"
   ]
  },
  {
   "cell_type": "code",
   "execution_count": 6,
   "metadata": {
    "pycharm": {
     "name": "#%%\n"
    }
   },
   "outputs": [
    {
     "data": {
      "image/png": "[encoded data removed]",
      "text/plain": [
       "<Figure size 864x432 with 1 Axes>"
      ]
     },
     "metadata": {
      "needs_background": "light"
     },
     "output_type": "display_data"
    }
   ],
   "source": [
    "f, ax = plt.subplots(figsize=(12, 6))\n",
    "ax = sns.countplot(x=\"workclass\", hue=\"sex\", data=df, palette=\"Set3\")\n",
    "ax.set_title(\"Frequency distribution of the variable workclass by sex\")\n",
    "plt.show()"
   ]
  },
  {
   "cell_type": "markdown",
   "metadata": {
    "pycharm": {
     "name": "#%% md\n"
    }
   },
   "source": [
    "<h3> Пункт 2.7 Визуализировать гистограмму объектов по признаку «age»;</h3>"
   ]
  },
  {
   "cell_type": "code",
   "execution_count": 7,
   "metadata": {
    "pycharm": {
     "name": "#%%\n"
    }
   },
   "outputs": [
    {
     "data": {
      "image/png": "[encoded data removed]",
      "text/plain": [
       "<Figure size 720x576 with 1 Axes>"
      ]
     },
     "metadata": {
      "needs_background": "light"
     },
     "output_type": "display_data"
    }
   ],
   "source": [
    "f, ax = plt.subplots(figsize=(10,8))\n",
    "x = df['age']\n",
    "ax = sns.distplot(x, bins=30, color='blue')\n",
    "ax.set_title(\"Distribution of age variable\")\n",
    "plt.show()"
   ]
  },
  {
   "cell_type": "markdown",
   "metadata": {
    "pycharm": {
     "name": "#%% md\n"
    }
   },
   "source": [
    "<h3> Пункт 2.8 Визуализировать распределение объектов по признаку «age», используя «ящик с усами»</h3>"
   ]
  },
  {
   "cell_type": "code",
   "execution_count": 8,
   "metadata": {
    "pycharm": {
     "name": "#%%\n"
    }
   },
   "outputs": [
    {
     "data": {
      "image/png": "[encoded data removed]",
      "text/plain": [
       "<Figure size 576x432 with 1 Axes>"
      ]
     },
     "metadata": {
      "needs_background": "light"
     },
     "output_type": "display_data"
    }
   ],
   "source": [
    "f, ax = plt.subplots(figsize=(8,6))\n",
    "x = df['age']\n",
    "ax = sns.boxplot(x)\n",
    "ax.set_title(\"Visualize outliers in age variable\")\n",
    "plt.show()"
   ]
  },
  {
   "cell_type": "markdown",
   "metadata": {
    "pycharm": {
     "name": "#%% md\n"
    }
   },
   "source": [
    "<h3> Пункт 2.9 Визуализировать два «ящика с усами» по признаку «age» для двух значений признака «income» на одном графике;</h3>"
   ]
  },
  {
   "cell_type": "code",
   "execution_count": 9,
   "metadata": {
    "pycharm": {
     "name": "#%%\n"
    }
   },
   "outputs": [
    {
     "data": {
      "image/png": "[encoded data removed]",
      "text/plain": [
       "<Figure size 576x432 with 1 Axes>"
      ]
     },
     "metadata": {
      "needs_background": "light"
     },
     "output_type": "display_data"
    }
   ],
   "source": [
    "f, ax = plt.subplots(figsize=(8, 6))\n",
    "ax = sns.boxplot(x=\"income\", y=\"age\", data=df)\n",
    "ax.set_title(\"Visualize income wrt age variable\")\n",
    "plt.show()"
   ]
  },
  {
   "cell_type": "markdown",
   "metadata": {
    "pycharm": {
     "name": "#%% md\n"
    }
   },
   "source": [
    "<h3>Пункт 2.10 Визуализировать четыре «ящика с усами» по признаку «age» для двух значений признака «income» и двух значений признака «sex» на одном графике.</h3>"
   ]
  },
  {
   "cell_type": "code",
   "execution_count": 10,
   "metadata": {
    "pycharm": {
     "name": "#%%\n"
    }
   },
   "outputs": [
    {
     "data": {
      "image/png": "[encoded data removed]",
      "text/plain": [
       "<Figure size 576x432 with 1 Axes>"
      ]
     },
     "metadata": {
      "needs_background": "light"
     },
     "output_type": "display_data"
    }
   ],
   "source": [
    "f, ax = plt.subplots(figsize=(8, 6))\n",
    "ax = sns.boxplot(x=\"income\", y=\"age\", hue=\"sex\", data=df)\n",
    "ax.set_title(\"Visualize income wrt age and sex variable\")\n",
    "ax.legend(loc='upper right')\n",
    "plt.show()"
   ]
  },
  {
   "cell_type": "markdown",
   "metadata": {
    "pycharm": {
     "name": "#%% md\n"
    }
   },
   "source": [
    "<h3> Пункт 2.11 визуализировать «ящики с усами» для каждого из значений признака «race» по признаку «аge»;</h3>\n",
    "\n",
    "Задача SVM максимизировать зазор, разделяющий классы. Ширина зазора считается по формуле:\n",
    "<img src=\"source/ширина полосы.png\">"
   ]
  },
  {
   "cell_type": "code",
   "execution_count": 11,
   "metadata": {
    "pycharm": {
     "name": "#%%\n"
    }
   },
   "outputs": [
    {
     "data": {
      "image/png": "[encoded data removed]",
      "text/plain": [
       "<Figure size 720x432 with 1 Axes>"
      ]
     },
     "metadata": {
      "needs_background": "light"
     },
     "output_type": "display_data"
    }
   ],
   "source": [
    "f, ax = plt.subplots(figsize=(10, 6))\n",
    "ax = sns.boxplot(x=\"race\", y=\"age\", data=df)\n",
    "ax.set_title(\"Visualize income wrt age variable\")\n",
    "plt.show()"
   ]
  },
  {
   "cell_type": "markdown",
   "metadata": {
    "pycharm": {
     "name": "#%% md\n"
    }
   },
   "source": [
    "<h3> Пункт 2.12 Визуализировать тепловую карту корреляции признаков;</h3>"
   ]
  },
  {
   "cell_type": "code",
   "execution_count": 12,
   "metadata": {
    "pycharm": {
     "name": "#%%\n"
    }
   },
   "outputs": [
    {
     "data": {
      "text/html": [
       "<style type=\"text/css\">\n",
       "#T_d7993_row0_col0, #T_d7993_row1_col1, #T_d7993_row2_col2, #T_d7993_row3_col3, #T_d7993_row4_col4, #T_d7993_row5_col5 {\n",
       "  background-color: #b40426;\n",
       "  color: #f1f1f1;\n",
       "}\n",
       "#T_d7993_row0_col1, #T_d7993_row1_col0, #T_d7993_row2_col1, #T_d7993_row3_col4, #T_d7993_row4_col3, #T_d7993_row5_col1 {\n",
       "  background-color: #3b4cc0;\n",
       "  color: #f1f1f1;\n",
       "}\n",
       "#T_d7993_row0_col2 {\n",
       "  background-color: #5a78e4;\n",
       "  color: #f1f1f1;\n",
       "}\n",
       "#T_d7993_row0_col3 {\n",
       "  background-color: #6788ee;\n",
       "  color: #f1f1f1;\n",
       "}\n",
       "#T_d7993_row0_col4 {\n",
       "  background-color: #6180e9;\n",
       "  color: #f1f1f1;\n",
       "}\n",
       "#T_d7993_row0_col5 {\n",
       "  background-color: #6485ec;\n",
       "  color: #f1f1f1;\n",
       "}\n",
       "#T_d7993_row1_col2, #T_d7993_row3_col1 {\n",
       "  background-color: #4358cb;\n",
       "  color: #f1f1f1;\n",
       "}\n",
       "#T_d7993_row1_col3, #T_d7993_row5_col4 {\n",
       "  background-color: #506bda;\n",
       "  color: #f1f1f1;\n",
       "}\n",
       "#T_d7993_row1_col4 {\n",
       "  background-color: #4c66d6;\n",
       "  color: #f1f1f1;\n",
       "}\n",
       "#T_d7993_row1_col5 {\n",
       "  background-color: #4a63d3;\n",
       "  color: #f1f1f1;\n",
       "}\n",
       "#T_d7993_row2_col0 {\n",
       "  background-color: #516ddb;\n",
       "  color: #f1f1f1;\n",
       "}\n",
       "#T_d7993_row2_col3 {\n",
       "  background-color: #6c8ff1;\n",
       "  color: #f1f1f1;\n",
       "}\n",
       "#T_d7993_row2_col4 {\n",
       "  background-color: #5f7fe8;\n",
       "  color: #f1f1f1;\n",
       "}\n",
       "#T_d7993_row2_col5 {\n",
       "  background-color: #7597f6;\n",
       "  color: #f1f1f1;\n",
       "}\n",
       "#T_d7993_row3_col0, #T_d7993_row3_col5, #T_d7993_row4_col2 {\n",
       "  background-color: #5b7ae5;\n",
       "  color: #f1f1f1;\n",
       "}\n",
       "#T_d7993_row3_col2 {\n",
       "  background-color: #6a8bef;\n",
       "  color: #f1f1f1;\n",
       "}\n",
       "#T_d7993_row4_col0 {\n",
       "  background-color: #5572df;\n",
       "  color: #f1f1f1;\n",
       "}\n",
       "#T_d7993_row4_col1 {\n",
       "  background-color: #4055c8;\n",
       "  color: #f1f1f1;\n",
       "}\n",
       "#T_d7993_row4_col5, #T_d7993_row5_col0 {\n",
       "  background-color: #5470de;\n",
       "  color: #f1f1f1;\n",
       "}\n",
       "#T_d7993_row5_col2 {\n",
       "  background-color: #6e90f2;\n",
       "  color: #f1f1f1;\n",
       "}\n",
       "#T_d7993_row5_col3 {\n",
       "  background-color: #5875e1;\n",
       "  color: #f1f1f1;\n",
       "}\n",
       "</style>\n",
       "<table id=\"T_d7993_\">\n",
       "  <thead>\n",
       "    <tr>\n",
       "      <th class=\"blank level0\" >&nbsp;</th>\n",
       "      <th class=\"col_heading level0 col0\" >age</th>\n",
       "      <th class=\"col_heading level0 col1\" >fnlwgt</th>\n",
       "      <th class=\"col_heading level0 col2\" >education_num</th>\n",
       "      <th class=\"col_heading level0 col3\" >capital_gain</th>\n",
       "      <th class=\"col_heading level0 col4\" >capital_loss</th>\n",
       "      <th class=\"col_heading level0 col5\" >hours_per_week</th>\n",
       "    </tr>\n",
       "  </thead>\n",
       "  <tbody>\n",
       "    <tr>\n",
       "      <th id=\"T_d7993_level0_row0\" class=\"row_heading level0 row0\" >age</th>\n",
       "      <td id=\"T_d7993_row0_col0\" class=\"data row0 col0\" >1.0</td>\n",
       "      <td id=\"T_d7993_row0_col1\" class=\"data row0 col1\" >-0.07665</td>\n",
       "      <td id=\"T_d7993_row0_col2\" class=\"data row0 col2\" >0.03653</td>\n",
       "      <td id=\"T_d7993_row0_col3\" class=\"data row0 col3\" >0.07767</td>\n",
       "      <td id=\"T_d7993_row0_col4\" class=\"data row0 col4\" >0.05777</td>\n",
       "      <td id=\"T_d7993_row0_col5\" class=\"data row0 col5\" >0.06876</td>\n",
       "    </tr>\n",
       "    <tr>\n",
       "      <th id=\"T_d7993_level0_row1\" class=\"row_heading level0 row1\" >fnlwgt</th>\n",
       "      <td id=\"T_d7993_row1_col0\" class=\"data row1 col0\" >-0.07665</td>\n",
       "      <td id=\"T_d7993_row1_col1\" class=\"data row1 col1\" >1.0</td>\n",
       "      <td id=\"T_d7993_row1_col2\" class=\"data row1 col2\" >-0.04319</td>\n",
       "      <td id=\"T_d7993_row1_col3\" class=\"data row1 col3\" >0.0004319</td>\n",
       "      <td id=\"T_d7993_row1_col4\" class=\"data row1 col4\" >-0.01025</td>\n",
       "      <td id=\"T_d7993_row1_col5\" class=\"data row1 col5\" >-0.01877</td>\n",
       "    </tr>\n",
       "    <tr>\n",
       "      <th id=\"T_d7993_level0_row2\" class=\"row_heading level0 row2\" >education_num</th>\n",
       "      <td id=\"T_d7993_row2_col0\" class=\"data row2 col0\" >0.03653</td>\n",
       "      <td id=\"T_d7993_row2_col1\" class=\"data row2 col1\" >-0.04319</td>\n",
       "      <td id=\"T_d7993_row2_col2\" class=\"data row2 col2\" >1.0</td>\n",
       "      <td id=\"T_d7993_row2_col3\" class=\"data row2 col3\" >0.1226</td>\n",
       "      <td id=\"T_d7993_row2_col4\" class=\"data row2 col4\" >0.07992</td>\n",
       "      <td id=\"T_d7993_row2_col5\" class=\"data row2 col5\" >0.1481</td>\n",
       "    </tr>\n",
       "    <tr>\n",
       "      <th id=\"T_d7993_level0_row3\" class=\"row_heading level0 row3\" >capital_gain</th>\n",
       "      <td id=\"T_d7993_row3_col0\" class=\"data row3 col0\" >0.07767</td>\n",
       "      <td id=\"T_d7993_row3_col1\" class=\"data row3 col1\" >0.0004319</td>\n",
       "      <td id=\"T_d7993_row3_col2\" class=\"data row3 col2\" >0.1226</td>\n",
       "      <td id=\"T_d7993_row3_col3\" class=\"data row3 col3\" >1.0</td>\n",
       "      <td id=\"T_d7993_row3_col4\" class=\"data row3 col4\" >-0.03162</td>\n",
       "      <td id=\"T_d7993_row3_col5\" class=\"data row3 col5\" >0.07841</td>\n",
       "    </tr>\n",
       "    <tr>\n",
       "      <th id=\"T_d7993_level0_row4\" class=\"row_heading level0 row4\" >capital_loss</th>\n",
       "      <td id=\"T_d7993_row4_col0\" class=\"data row4 col0\" >0.05777</td>\n",
       "      <td id=\"T_d7993_row4_col1\" class=\"data row4 col1\" >-0.01025</td>\n",
       "      <td id=\"T_d7993_row4_col2\" class=\"data row4 col2\" >0.07992</td>\n",
       "      <td id=\"T_d7993_row4_col3\" class=\"data row4 col3\" >-0.03162</td>\n",
       "      <td id=\"T_d7993_row4_col4\" class=\"data row4 col4\" >1.0</td>\n",
       "      <td id=\"T_d7993_row4_col5\" class=\"data row4 col5\" >0.05426</td>\n",
       "    </tr>\n",
       "    <tr>\n",
       "      <th id=\"T_d7993_level0_row5\" class=\"row_heading level0 row5\" >hours_per_week</th>\n",
       "      <td id=\"T_d7993_row5_col0\" class=\"data row5 col0\" >0.06876</td>\n",
       "      <td id=\"T_d7993_row5_col1\" class=\"data row5 col1\" >-0.01877</td>\n",
       "      <td id=\"T_d7993_row5_col2\" class=\"data row5 col2\" >0.1481</td>\n",
       "      <td id=\"T_d7993_row5_col3\" class=\"data row5 col3\" >0.07841</td>\n",
       "      <td id=\"T_d7993_row5_col4\" class=\"data row5 col4\" >0.05426</td>\n",
       "      <td id=\"T_d7993_row5_col5\" class=\"data row5 col5\" >1.0</td>\n",
       "    </tr>\n",
       "  </tbody>\n",
       "</table>\n"
      ],
      "text/plain": [
       "<pandas.io.formats.style.Styler at 0x1f9fbdf4250>"
      ]
     },
     "execution_count": 12,
     "metadata": {},
     "output_type": "execute_result"
    }
   ],
   "source": [
    "df.corr().style.format(\"{:.4}\").background_gradient(cmap=plt.get_cmap('coolwarm'), axis=1)"
   ]
  },
  {
   "cell_type": "markdown",
   "metadata": {
    "pycharm": {
     "name": "#%% md\n"
    }
   },
   "source": [
    "<h3> Пункт 2.13 Если в наборе данных пропущенные значения обозначены специальным символом, замените значения в таких ячейках на тип NaN</h3>\n"
   ]
  },
  {
   "cell_type": "code",
   "execution_count": 13,
   "metadata": {
    "pycharm": {
     "name": "#%%\n"
    }
   },
   "outputs": [
    {
     "name": "stdout",
     "output_type": "stream",
     "text": [
      "age                  0\n",
      "workclass         1836\n",
      "fnlwgt               0\n",
      "education            0\n",
      "education_num        0\n",
      "marital_status       0\n",
      "occupation        1843\n",
      "relationship         0\n",
      "race                 0\n",
      "sex                  0\n",
      "capital_gain         0\n",
      "capital_loss         0\n",
      "hours_per_week       0\n",
      "native_country     583\n",
      "income               0\n",
      "dtype: int64\n"
     ]
    }
   ],
   "source": [
    "#Заменим значения, пропущенные в наборе данных на тип NaN\n",
    "df.replace(' ?', np.NaN, inplace=True)\n",
    "#Определим признаки, в которых есть пропущенные значения, посчитаем количество пропущенных значений по каждому признаку\n",
    "print(df.isnull().sum()) #Напечатаем количество пропусков по каждому пункту"
   ]
  },
  {
   "cell_type": "markdown",
   "metadata": {
    "pycharm": {
     "name": "#%% md\n"
    }
   },
   "source": [
    "<h3> Пункт 2.14 Определить категориальные признаки в наборе данных.</h3>"
   ]
  },
  {
   "cell_type": "code",
   "execution_count": 14,
   "metadata": {
    "pycharm": {
     "name": "#%%\n"
    }
   },
   "outputs": [
    {
     "data": {
      "text/html": [
       "<div>\n",
       "<style scoped>\n",
       "    .dataframe tbody tr th:only-of-type {\n",
       "        vertical-align: middle;\n",
       "    }\n",
       "\n",
       "    .dataframe tbody tr th {\n",
       "        vertical-align: top;\n",
       "    }\n",
       "\n",
       "    .dataframe thead th {\n",
       "        text-align: right;\n",
       "    }\n",
       "</style>\n",
       "<table border=\"1\" class=\"dataframe\">\n",
       "  <thead>\n",
       "    <tr style=\"text-align: right;\">\n",
       "      <th></th>\n",
       "      <th>workclass</th>\n",
       "      <th>education</th>\n",
       "      <th>marital_status</th>\n",
       "      <th>occupation</th>\n",
       "      <th>relationship</th>\n",
       "      <th>race</th>\n",
       "      <th>sex</th>\n",
       "      <th>native_country</th>\n",
       "      <th>income</th>\n",
       "    </tr>\n",
       "  </thead>\n",
       "  <tbody>\n",
       "    <tr>\n",
       "      <th>0</th>\n",
       "      <td>State-gov</td>\n",
       "      <td>Bachelors</td>\n",
       "      <td>Never-married</td>\n",
       "      <td>Adm-clerical</td>\n",
       "      <td>Not-in-family</td>\n",
       "      <td>White</td>\n",
       "      <td>Male</td>\n",
       "      <td>United-States</td>\n",
       "      <td>&lt;=50K</td>\n",
       "    </tr>\n",
       "    <tr>\n",
       "      <th>1</th>\n",
       "      <td>Self-emp-not-inc</td>\n",
       "      <td>Bachelors</td>\n",
       "      <td>Married-civ-spouse</td>\n",
       "      <td>Exec-managerial</td>\n",
       "      <td>Husband</td>\n",
       "      <td>White</td>\n",
       "      <td>Male</td>\n",
       "      <td>United-States</td>\n",
       "      <td>&lt;=50K</td>\n",
       "    </tr>\n",
       "    <tr>\n",
       "      <th>2</th>\n",
       "      <td>Private</td>\n",
       "      <td>HS-grad</td>\n",
       "      <td>Divorced</td>\n",
       "      <td>Handlers-cleaners</td>\n",
       "      <td>Not-in-family</td>\n",
       "      <td>White</td>\n",
       "      <td>Male</td>\n",
       "      <td>United-States</td>\n",
       "      <td>&lt;=50K</td>\n",
       "    </tr>\n",
       "    <tr>\n",
       "      <th>3</th>\n",
       "      <td>Private</td>\n",
       "      <td>11th</td>\n",
       "      <td>Married-civ-spouse</td>\n",
       "      <td>Handlers-cleaners</td>\n",
       "      <td>Husband</td>\n",
       "      <td>Black</td>\n",
       "      <td>Male</td>\n",
       "      <td>United-States</td>\n",
       "      <td>&lt;=50K</td>\n",
       "    </tr>\n",
       "    <tr>\n",
       "      <th>4</th>\n",
       "      <td>Private</td>\n",
       "      <td>Bachelors</td>\n",
       "      <td>Married-civ-spouse</td>\n",
       "      <td>Prof-specialty</td>\n",
       "      <td>Wife</td>\n",
       "      <td>Black</td>\n",
       "      <td>Female</td>\n",
       "      <td>Cuba</td>\n",
       "      <td>&lt;=50K</td>\n",
       "    </tr>\n",
       "  </tbody>\n",
       "</table>\n",
       "</div>"
      ],
      "text/plain": [
       "           workclass   education       marital_status          occupation  \\\n",
       "0          State-gov   Bachelors        Never-married        Adm-clerical   \n",
       "1   Self-emp-not-inc   Bachelors   Married-civ-spouse     Exec-managerial   \n",
       "2            Private     HS-grad             Divorced   Handlers-cleaners   \n",
       "3            Private        11th   Married-civ-spouse   Handlers-cleaners   \n",
       "4            Private   Bachelors   Married-civ-spouse      Prof-specialty   \n",
       "\n",
       "     relationship    race      sex  native_country  income  \n",
       "0   Not-in-family   White     Male   United-States   <=50K  \n",
       "1         Husband   White     Male   United-States   <=50K  \n",
       "2   Not-in-family   White     Male   United-States   <=50K  \n",
       "3         Husband   Black     Male   United-States   <=50K  \n",
       "4            Wife   Black   Female            Cuba   <=50K  "
      ]
     },
     "execution_count": 14,
     "metadata": {},
     "output_type": "execute_result"
    }
   ],
   "source": [
    "#Определис категориальные признаки в наборе данных\n",
    "categorical = [var for var in df.columns if df[var].dtype=='O']\n",
    "df[categorical].head()"
   ]
  },
  {
   "cell_type": "markdown",
   "metadata": {
    "pycharm": {
     "name": "#%% md\n"
    }
   },
   "source": [
    "<h3>Пункт 2.15 Определить числовые признаки в наборе данных.</h3>"
   ]
  },
  {
   "cell_type": "code",
   "execution_count": 15,
   "metadata": {
    "pycharm": {
     "name": "#%%\n"
    }
   },
   "outputs": [
    {
     "data": {
      "text/html": [
       "<div>\n",
       "<style scoped>\n",
       "    .dataframe tbody tr th:only-of-type {\n",
       "        vertical-align: middle;\n",
       "    }\n",
       "\n",
       "    .dataframe tbody tr th {\n",
       "        vertical-align: top;\n",
       "    }\n",
       "\n",
       "    .dataframe thead th {\n",
       "        text-align: right;\n",
       "    }\n",
       "</style>\n",
       "<table border=\"1\" class=\"dataframe\">\n",
       "  <thead>\n",
       "    <tr style=\"text-align: right;\">\n",
       "      <th></th>\n",
       "      <th>age</th>\n",
       "      <th>fnlwgt</th>\n",
       "      <th>education_num</th>\n",
       "      <th>capital_gain</th>\n",
       "      <th>capital_loss</th>\n",
       "      <th>hours_per_week</th>\n",
       "    </tr>\n",
       "  </thead>\n",
       "  <tbody>\n",
       "    <tr>\n",
       "      <th>0</th>\n",
       "      <td>39</td>\n",
       "      <td>77516</td>\n",
       "      <td>13</td>\n",
       "      <td>2174</td>\n",
       "      <td>0</td>\n",
       "      <td>40</td>\n",
       "    </tr>\n",
       "    <tr>\n",
       "      <th>1</th>\n",
       "      <td>50</td>\n",
       "      <td>83311</td>\n",
       "      <td>13</td>\n",
       "      <td>0</td>\n",
       "      <td>0</td>\n",
       "      <td>13</td>\n",
       "    </tr>\n",
       "    <tr>\n",
       "      <th>2</th>\n",
       "      <td>38</td>\n",
       "      <td>215646</td>\n",
       "      <td>9</td>\n",
       "      <td>0</td>\n",
       "      <td>0</td>\n",
       "      <td>40</td>\n",
       "    </tr>\n",
       "    <tr>\n",
       "      <th>3</th>\n",
       "      <td>53</td>\n",
       "      <td>234721</td>\n",
       "      <td>7</td>\n",
       "      <td>0</td>\n",
       "      <td>0</td>\n",
       "      <td>40</td>\n",
       "    </tr>\n",
       "    <tr>\n",
       "      <th>4</th>\n",
       "      <td>28</td>\n",
       "      <td>338409</td>\n",
       "      <td>13</td>\n",
       "      <td>0</td>\n",
       "      <td>0</td>\n",
       "      <td>40</td>\n",
       "    </tr>\n",
       "  </tbody>\n",
       "</table>\n",
       "</div>"
      ],
      "text/plain": [
       "   age  fnlwgt  education_num  capital_gain  capital_loss  hours_per_week\n",
       "0   39   77516             13          2174             0              40\n",
       "1   50   83311             13             0             0              13\n",
       "2   38  215646              9             0             0              40\n",
       "3   53  234721              7             0             0              40\n",
       "4   28  338409             13             0             0              40"
      ]
     },
     "execution_count": 15,
     "metadata": {},
     "output_type": "execute_result"
    }
   ],
   "source": [
    "#Определим числовые признаки в наборе данных\n",
    "numbers = [var for var in df.columns if df[var].dtype!='O']\n",
    "df[numbers].head()"
   ]
  },
  {
   "cell_type": "code",
   "execution_count": 16,
   "metadata": {
    "pycharm": {
     "name": "#%%\n"
    }
   },
   "outputs": [
    {
     "data": {
      "text/html": [
       "<div>\n",
       "<style scoped>\n",
       "    .dataframe tbody tr th:only-of-type {\n",
       "        vertical-align: middle;\n",
       "    }\n",
       "\n",
       "    .dataframe tbody tr th {\n",
       "        vertical-align: top;\n",
       "    }\n",
       "\n",
       "    .dataframe thead th {\n",
       "        text-align: right;\n",
       "    }\n",
       "</style>\n",
       "<table border=\"1\" class=\"dataframe\">\n",
       "  <thead>\n",
       "    <tr style=\"text-align: right;\">\n",
       "      <th></th>\n",
       "      <th>age</th>\n",
       "      <th>workclass</th>\n",
       "      <th>fnlwgt</th>\n",
       "      <th>education</th>\n",
       "      <th>education_num</th>\n",
       "      <th>marital_status</th>\n",
       "      <th>occupation</th>\n",
       "      <th>relationship</th>\n",
       "      <th>race</th>\n",
       "      <th>sex</th>\n",
       "      <th>capital_gain</th>\n",
       "      <th>capital_loss</th>\n",
       "      <th>hours_per_week</th>\n",
       "      <th>native_country</th>\n",
       "      <th>income</th>\n",
       "    </tr>\n",
       "  </thead>\n",
       "  <tbody>\n",
       "    <tr>\n",
       "      <th>0</th>\n",
       "      <td>39</td>\n",
       "      <td>6</td>\n",
       "      <td>77516</td>\n",
       "      <td>9</td>\n",
       "      <td>13</td>\n",
       "      <td>4</td>\n",
       "      <td>0</td>\n",
       "      <td>1</td>\n",
       "      <td>4</td>\n",
       "      <td>1</td>\n",
       "      <td>2174</td>\n",
       "      <td>0</td>\n",
       "      <td>40</td>\n",
       "      <td>38</td>\n",
       "      <td>0</td>\n",
       "    </tr>\n",
       "    <tr>\n",
       "      <th>1</th>\n",
       "      <td>50</td>\n",
       "      <td>5</td>\n",
       "      <td>83311</td>\n",
       "      <td>9</td>\n",
       "      <td>13</td>\n",
       "      <td>2</td>\n",
       "      <td>3</td>\n",
       "      <td>0</td>\n",
       "      <td>4</td>\n",
       "      <td>1</td>\n",
       "      <td>0</td>\n",
       "      <td>0</td>\n",
       "      <td>13</td>\n",
       "      <td>38</td>\n",
       "      <td>0</td>\n",
       "    </tr>\n",
       "    <tr>\n",
       "      <th>2</th>\n",
       "      <td>38</td>\n",
       "      <td>3</td>\n",
       "      <td>215646</td>\n",
       "      <td>11</td>\n",
       "      <td>9</td>\n",
       "      <td>0</td>\n",
       "      <td>5</td>\n",
       "      <td>1</td>\n",
       "      <td>4</td>\n",
       "      <td>1</td>\n",
       "      <td>0</td>\n",
       "      <td>0</td>\n",
       "      <td>40</td>\n",
       "      <td>38</td>\n",
       "      <td>0</td>\n",
       "    </tr>\n",
       "    <tr>\n",
       "      <th>3</th>\n",
       "      <td>53</td>\n",
       "      <td>3</td>\n",
       "      <td>234721</td>\n",
       "      <td>1</td>\n",
       "      <td>7</td>\n",
       "      <td>2</td>\n",
       "      <td>5</td>\n",
       "      <td>0</td>\n",
       "      <td>2</td>\n",
       "      <td>1</td>\n",
       "      <td>0</td>\n",
       "      <td>0</td>\n",
       "      <td>40</td>\n",
       "      <td>38</td>\n",
       "      <td>0</td>\n",
       "    </tr>\n",
       "    <tr>\n",
       "      <th>4</th>\n",
       "      <td>28</td>\n",
       "      <td>3</td>\n",
       "      <td>338409</td>\n",
       "      <td>9</td>\n",
       "      <td>13</td>\n",
       "      <td>2</td>\n",
       "      <td>9</td>\n",
       "      <td>5</td>\n",
       "      <td>2</td>\n",
       "      <td>0</td>\n",
       "      <td>0</td>\n",
       "      <td>0</td>\n",
       "      <td>40</td>\n",
       "      <td>4</td>\n",
       "      <td>0</td>\n",
       "    </tr>\n",
       "  </tbody>\n",
       "</table>\n",
       "</div>"
      ],
      "text/plain": [
       "   age  workclass  fnlwgt  education  education_num  marital_status  \\\n",
       "0   39          6   77516          9             13               4   \n",
       "1   50          5   83311          9             13               2   \n",
       "2   38          3  215646         11              9               0   \n",
       "3   53          3  234721          1              7               2   \n",
       "4   28          3  338409          9             13               2   \n",
       "\n",
       "   occupation  relationship  race  sex  capital_gain  capital_loss  \\\n",
       "0           0             1     4    1          2174             0   \n",
       "1           3             0     4    1             0             0   \n",
       "2           5             1     4    1             0             0   \n",
       "3           5             0     2    1             0             0   \n",
       "4           9             5     2    0             0             0   \n",
       "\n",
       "   hours_per_week  native_country  income  \n",
       "0              40              38       0  \n",
       "1              13              38       0  \n",
       "2              40              38       0  \n",
       "3              40              38       0  \n",
       "4              40               4       0  "
      ]
     },
     "execution_count": 16,
     "metadata": {},
     "output_type": "execute_result"
    }
   ],
   "source": [
    "#Преобразование категориальных признаков в числовые\n",
    "le = LabelEncoder()\n",
    "df[categorical] = df[categorical].apply(le.fit_transform)\n",
    "df.head()"
   ]
  },
  {
   "cell_type": "markdown",
   "metadata": {
    "pycharm": {
     "name": "#%% md\n"
    }
   },
   "source": [
    "<h3>Пункт 3. Подготовить и разделить исходный набор данных на тренировочный и тестовый наборы, в качестве целевой переменной возьмите признак «income».</h3>"
   ]
  },
  {
   "cell_type": "code",
   "execution_count": 17,
   "metadata": {
    "pycharm": {
     "name": "#%%\n"
    }
   },
   "outputs": [],
   "source": [
    "#Импортируем библиотеки, необходимые для проведения обучения модели решающего дерева\n",
    "from sklearn import tree\n",
    "from sklearn import metrics\n",
    "\n",
    "# 3. Подготовим и разделим исходный набор данных на тренировочный и тестовый наборы, целевая переменная - признак «income»\n",
    "y=df[\"income\"]\n",
    "X=df.drop(columns=(['income']))\n",
    "# Разделить датасет на обучающую и тестовую выборки\n",
    "X_train, X_test, y_train, y_test = train_test_split(X, y, test_size=0.33)"
   ]
  },
  {
   "cell_type": "markdown",
   "metadata": {
    "pycharm": {
     "name": "#%% md\n"
    }
   },
   "source": [
    "<h3>Пункт 4. Обучить модель решающего дерева для задачи классификации, построить графики зависимости F-меры на обучающей выборке и на тестовой от глубины дерева. Найти оптимальную глубину дерева, варьируя ее в выбранном диапазоне. Построить для оптимальной модели матрицу ошибок.</h3>\n",
    "\n",
    "max_depth - ограничение глубины дерева для уменьшения переобучения (pre-pruning)\n",
    "\n",
    "С увеличением глубины уменьшается выборка ближе к листьям, так как важные решения(отнесение к классу) находятся в листьях, то увеличивается нестабильность."
   ]
  },
  {
   "cell_type": "code",
   "execution_count": 18,
   "metadata": {
    "pycharm": {
     "name": "#%%\n"
    }
   },
   "outputs": [
    {
     "data": {
      "image/png": "[encoded data removed]",
      "text/plain": [
       "<Figure size 576x432 with 1 Axes>"
      ]
     },
     "metadata": {
      "needs_background": "light"
     },
     "output_type": "display_data"
    },
    {
     "name": "stdout",
     "output_type": "stream",
     "text": [
      "Наилучшая глубина дерева -  13 , с F-мерой  0.6791213303223157\n",
      "Время работы алгоритма -  18.162413835525513  секунд\n"
     ]
    }
   ],
   "source": [
    "# 4. Обучение модели решающего дерева\n",
    "t0 = time()\n",
    "#Переменная, куда будем записывать высоту дерева и % правильных ответов на тестовой и тренировочной выборке\n",
    "scores_data = pd.DataFrame()\n",
    "\n",
    "# Задаем диапазон для поиска глубины дерева\n",
    "tree_deep = np.arange(1, 100, 1)\n",
    "#Массивы с данными оценок\n",
    "train_F = np.zeros(len(tree_deep))\n",
    "test_F = np.zeros(len(tree_deep))\n",
    "# Лучшая метрика F и ее индекс\n",
    "best_F = 0\n",
    "index_best_F = 0\n",
    "\n",
    "#Проводим перебор высоты дерева, меняя ее от 1 до 100\n",
    "for mxd in tree_deep:\n",
    "    #Создаем и обучаем дерево с жестко заданой высотой\n",
    "    clf = tree.DecisionTreeClassifier(criterion='entropy', max_depth = mxd)\n",
    "    clf.fit(X_train, y_train)\n",
    "    #Определяем значение F-меры для тренировочной выборки  \n",
    "    y_train_predict = clf.predict(X_train)\n",
    "    F_train = (2 * metrics.precision_score(y_train, y_train_predict) * metrics.recall_score(y_train, y_train_predict)) /(metrics.precision_score(y_train, y_train_predict) + metrics.recall_score(y_train, y_train_predict))\n",
    "    train_F[(mxd - 1)] = F_train\n",
    "    #Определяем значение F-меры для тестовой выборки\n",
    "    y_test_predict = clf.predict(X_test)\n",
    "    F_test = (2 * metrics.precision_score(y_test, y_test_predict) * metrics.recall_score(y_test, y_test_predict))/(metrics.precision_score(y_test, y_test_predict) + metrics.recall_score(y_test, y_test_predict))\n",
    "    test_F[(mxd - 1)] = F_test\n",
    "    #Определение наилучшего значения F\n",
    "    if (F_test > best_F):\n",
    "        best_F = F_test\n",
    "        index_best_F = mxd\n",
    "    \n",
    "# Визуализация полученных данных\n",
    "fig, ax = plt.subplots(figsize=(8, 6))\n",
    "ax.plot(train_F, label='F_train')\n",
    "ax.plot(test_F, label='F_test')\n",
    "ax.grid(True)\n",
    "ax.set_title(\"Tree Classifier\")\n",
    "ax.set_xlabel(\"Deep\", fontsize=14)\n",
    "ax.set_ylabel(\"F value\", fontsize=14)\n",
    "ax.legend()\n",
    "plt.show()\n",
    "\n",
    "t1 = time()\n",
    "alg_time = t1-t0\n",
    "print('Наилучшая глубина дерева - ', (index_best_F + 1), ', с F-мерой ', best_F)\n",
    "print('Время работы алгоритма - ', alg_time, ' секунд')"
   ]
  },
  {
   "cell_type": "code",
   "execution_count": 21,
   "metadata": {
    "pycharm": {
     "name": "#%%\n"
    }
   },
   "outputs": [
    {
     "data": {
      "text/html": [
       "<div>\n",
       "<style scoped>\n",
       "    .dataframe tbody tr th:only-of-type {\n",
       "        vertical-align: middle;\n",
       "    }\n",
       "\n",
       "    .dataframe tbody tr th {\n",
       "        vertical-align: top;\n",
       "    }\n",
       "\n",
       "    .dataframe thead th {\n",
       "        text-align: right;\n",
       "    }\n",
       "</style>\n",
       "<table border=\"1\" class=\"dataframe\">\n",
       "  <thead>\n",
       "    <tr style=\"text-align: right;\">\n",
       "      <th></th>\n",
       "      <th>predicted &gt;50K</th>\n",
       "      <th>predicted &lt;=50K</th>\n",
       "    </tr>\n",
       "  </thead>\n",
       "  <tbody>\n",
       "    <tr>\n",
       "      <th>actual &gt;50K</th>\n",
       "      <td>7425</td>\n",
       "      <td>704</td>\n",
       "    </tr>\n",
       "    <tr>\n",
       "      <th>actual &lt;=50K</th>\n",
       "      <td>879</td>\n",
       "      <td>1738</td>\n",
       "    </tr>\n",
       "  </tbody>\n",
       "</table>\n",
       "</div>"
      ],
      "text/plain": [
       "              predicted >50K  predicted <=50K\n",
       "actual >50K             7425              704\n",
       "actual <=50K             879             1738"
      ]
     },
     "execution_count": 21,
     "metadata": {},
     "output_type": "execute_result"
    }
   ],
   "source": [
    "# Построим матрицу ошибок для дерева оптимальной глубины\n",
    "clf = tree.DecisionTreeClassifier(criterion='entropy', max_depth = index_best_F)\n",
    "clf.fit(X_train, y_train)\n",
    "confusion_matrix = metrics.confusion_matrix(y_test, clf.predict(X_test))\n",
    "pd.DataFrame(data = confusion_matrix, columns = ['predicted >50K', 'predicted <=50K'], index = ['actual >50K', 'actual <=50K'])"
   ]
  },
  {
   "cell_type": "markdown",
   "metadata": {
    "pycharm": {
     "name": "#%% md\n"
    }
   },
   "source": [
    "<h3>Пункт 5. Обучить модель случайного леса для задачи классификации.</h3>\n",
    "\n",
    "n_estimators - количество деревьев в лесу.\n",
    "\n",
    "Cлучайный лес — это бэггинг над решающими деревьями, при обучении которых для каждого разбиения признаки выбираются из некоторого случайного подмножества признаков. Практически не чувствителен к выбросам в данных из-за случайного сэмлирования\n",
    "![Ttile](https://imgur.com/1e8WFbH.png)\n",
    "\n",
    "Усреднение результатов по большему количеству деревьев позволит получить более устойчивый ансамбль за счет снижения переобучения. Однако  обратная сторона увеличения числа деревьев заключается в том, что с ростом количества деревьев требуется больше памяти и больше времени для обучения"
   ]
  },
  {
   "cell_type": "code",
   "execution_count": 20,
   "metadata": {
    "pycharm": {
     "name": "#%%\n"
    }
   },
   "outputs": [
    {
     "data": {
      "image/png": "[encoded data removed]",
      "text/plain": [
       "<Figure size 576x432 with 1 Axes>"
      ]
     },
     "metadata": {
      "needs_background": "light"
     },
     "output_type": "display_data"
    },
    {
     "name": "stdout",
     "output_type": "stream",
     "text": [
      "Наилучшее количество деревьев -  80 , с с F-мерой  0.6762105263157894\n",
      "Время работы алгоритма -  145.7606599330902  секунд\n"
     ]
    }
   ],
   "source": [
    "# 5. Обучение модели случайного леса\n",
    "from sklearn.model_selection import GridSearchCV\n",
    "from sklearn.ensemble import RandomForestClassifier\n",
    "t0 = time()\n",
    "# Задаем диапазон для поиска количества деревьев\n",
    "tree_number = np.arange(1, 100, 1)\n",
    "#Массивы с данными оценок\n",
    "train_F = np.zeros(len(tree_number))\n",
    "test_F = np.zeros(len(tree_number))\n",
    "# Лучшая метрика F и ее индекс\n",
    "best_F = 0\n",
    "index_best_F = 0\n",
    "\n",
    "#Проводим перебор количества деревьев, меняя значения от 1 до 100\n",
    "for t in tree_number:\n",
    "    #Создаем и обучаем лес с жестко заданным количеством деревьев\n",
    "    forest = RandomForestClassifier(n_estimators=t, bootstrap = True, max_features = 'sqrt')\n",
    "    forest.fit(X_train, y_train)\n",
    "    #Определяем значение F-меры для тренировочной выборки\n",
    "    y_train_predict = forest.predict(X_train)\n",
    "    F_train = (2 * metrics.precision_score(y_train, y_train_predict) * metrics.recall_score(y_train, y_train_predict)) /(metrics.precision_score(y_train, y_train_predict) + metrics.recall_score(y_train, y_train_predict))\n",
    "    train_F[(t - 1)] = F_train\n",
    "    #Определяем значение F-меры для тестовой выборки\n",
    "    y_test_predict = forest.predict(X_test)\n",
    "    F_test = (2 * metrics.precision_score(y_test, y_test_predict) * metrics.recall_score(y_test, y_test_predict))/(metrics.precision_score(y_test, y_test_predict) + metrics.recall_score(y_test, y_test_predict))\n",
    "    test_F[(t - 1)] = F_test\n",
    "    #Определение наилучшего значения F\n",
    "    if (F_test > best_F):\n",
    "        best_F = F_test\n",
    "        index_best_F = t\n",
    "    \n",
    "# Визуализация полученных данных\n",
    "fig, ax = plt.subplots(figsize=(8, 6))\n",
    "ax.plot(train_F, label='F_train')\n",
    "ax.plot(test_F, label='F_test')\n",
    "ax.grid(True)\n",
    "ax.set_title(\"Random Forest\")\n",
    "ax.set_xlabel(\"Trees\", fontsize=14)\n",
    "ax.set_ylabel(\"F value\", fontsize=14)\n",
    "ax.legend()\n",
    "plt.show()\n",
    "\n",
    "t1 = time()\n",
    "alg_time = t1-t0\n",
    "print('Наилучшее количество деревьев - ', (index_best_F + 1), ', с с F-мерой ', best_F)\n",
    "print('Время работы алгоритма - ', alg_time, ' секунд')"
   ]
  },
  {
   "cell_type": "code",
   "execution_count": 21,
   "metadata": {
    "pycharm": {
     "name": "#%%\n"
    }
   },
   "outputs": [
    {
     "data": {
      "text/html": [
       "<div>\n",
       "<style scoped>\n",
       "    .dataframe tbody tr th:only-of-type {\n",
       "        vertical-align: middle;\n",
       "    }\n",
       "\n",
       "    .dataframe tbody tr th {\n",
       "        vertical-align: top;\n",
       "    }\n",
       "\n",
       "    .dataframe thead th {\n",
       "        text-align: right;\n",
       "    }\n",
       "</style>\n",
       "<table border=\"1\" class=\"dataframe\">\n",
       "  <thead>\n",
       "    <tr style=\"text-align: right;\">\n",
       "      <th></th>\n",
       "      <th>predicted &gt;50K</th>\n",
       "      <th>predicted &lt;=50K</th>\n",
       "    </tr>\n",
       "  </thead>\n",
       "  <tbody>\n",
       "    <tr>\n",
       "      <th>actual &gt;50K</th>\n",
       "      <td>7607</td>\n",
       "      <td>553</td>\n",
       "    </tr>\n",
       "    <tr>\n",
       "      <th>actual &lt;=50K</th>\n",
       "      <td>994</td>\n",
       "      <td>1592</td>\n",
       "    </tr>\n",
       "  </tbody>\n",
       "</table>\n",
       "</div>"
      ],
      "text/plain": [
       "              predicted >50K  predicted <=50K\n",
       "actual >50K             7607              553\n",
       "actual <=50K             994             1592"
      ]
     },
     "execution_count": 21,
     "metadata": {},
     "output_type": "execute_result"
    }
   ],
   "source": [
    "# Построим матрицу ошибок для леса с оптимальным количеством деревьев\n",
    "forest = RandomForestClassifier(n_estimators=index_best_F, bootstrap = True, max_features = 'sqrt')\n",
    "forest.fit(X_train, y_train)\n",
    "confusion_matrix = metrics.confusion_matrix(y_test, forest.predict(X_test))\n",
    "pd.DataFrame(data = confusion_matrix, columns = ['predicted >50K', 'predicted <=50K'], index = ['actual >50K', 'actual <=50K'])"
   ]
  },
  {
   "cell_type": "markdown",
   "metadata": {
    "pycharm": {
     "name": "#%% md\n"
    }
   },
   "source": [
    "<h3>Пункт 6. Обучить модель градиентного бустинга для задачи классификации</h3>\n",
    "\n",
    "В отличие от случайного леса, который создает дерево решений для каждой выборки, в градиентном бустинге деревья создаются последовательно. Предыдущие деревья в модели не изменяются. Результаты предыдущего дерева используются для улучшения последующего, т.еобучение нового алгоритма осуществляется на тех объектах, где предыдущие ошиблись чаще(большие веса объектов)"
   ]
  },
  {
   "cell_type": "code",
   "execution_count": 22,
   "metadata": {
    "pycharm": {
     "name": "#%%\n"
    },
    "scrolled": false
   },
   "outputs": [
    {
     "data": {
      "image/png": "[encoded data removed]",
      "text/plain": [
       "<Figure size 576x432 with 1 Axes>"
      ]
     },
     "metadata": {
      "needs_background": "light"
     },
     "output_type": "display_data"
    },
    {
     "name": "stdout",
     "output_type": "stream",
     "text": [
      "Наилучшее количество деревьев -  96 , с F-мерой  0.7051336444633007\n",
      "Время работы алгоритма -  31.75055170059204  секунд\n"
     ]
    }
   ],
   "source": [
    "# 6. Обучение модели градиентного бустинга\n",
    "import catboost\n",
    "from catboost import CatBoostClassifier\n",
    "t0 = time()\n",
    "# Задаем диапазон для поиска количества деревьев в композиции\n",
    "boost_number = np.arange(1, 100, 1)\n",
    "#Массивы с данными оценок\n",
    "train_F = np.zeros(len(boost_number))\n",
    "test_F = np.zeros(len(boost_number))\n",
    "# Лучшая метрика F и ее индекс\n",
    "best_F = 0\n",
    "index_best_F = 0\n",
    "\n",
    "#Проводим перебор количества деревьев, меняя значения от 1 до 100\n",
    "for b in boost_number:\n",
    "    #Создаем и обучаем лес с жестко заданным количеством деревьев\n",
    "    cat = CatBoostClassifier(learning_rate=0.5, loss_function='Logloss', n_estimators = b, logging_level=None)\n",
    "    cat.fit(X_train, y_train, verbose = False)\n",
    "    #Определяем значение F-меры для тренировочной выборки\n",
    "    y_train_predict = cat.predict(X_train)\n",
    "    F_train = (2 * metrics.precision_score(y_train, y_train_predict) * metrics.recall_score(y_train, y_train_predict)) / (metrics.precision_score(y_train, y_train_predict) + metrics.recall_score(y_train, y_train_predict))\n",
    "    train_F[(b - 1)] = F_train\n",
    "    #Определяем значение F-меры для тестовой выборки\n",
    "    y_test_predict = cat.predict(X_test)\n",
    "    F_test = (2 * metrics.precision_score(y_test, y_test_predict) * metrics.recall_score(y_test, y_test_predict))/(metrics.precision_score(y_test, y_test_predict) + metrics.recall_score(y_test, y_test_predict))\n",
    "    test_F[(b - 1)] = F_test\n",
    "    #Определение наилучшего значения F\n",
    "    if (F_test > best_F):\n",
    "        best_F = F_test\n",
    "        index_best_F = b\n",
    "    \n",
    "# Визуализация полученных данных\n",
    "fig, ax = plt.subplots(figsize=(8, 6))\n",
    "ax.plot(train_F, label='F_train')\n",
    "ax.plot(test_F, label='F_test')\n",
    "ax.grid(True)\n",
    "ax.set_title(\"Gradient Boosting\")\n",
    "ax.set_xlabel(\"Trees\", fontsize=14)\n",
    "ax.set_ylabel(\"F value\", fontsize=14)\n",
    "ax.legend()\n",
    "plt.show()\n",
    "\n",
    "t1 = time()\n",
    "alg_time = t1-t0\n",
    "print('Наилучшее количество деревьев - ', index_best_F, ', с F-мерой ', best_F)\n",
    "print('Время работы алгоритма - ', alg_time, ' секунд')"
   ]
  },
  {
   "cell_type": "code",
   "execution_count": 23,
   "metadata": {
    "pycharm": {
     "name": "#%%\n"
    },
    "scrolled": true
   },
   "outputs": [
    {
     "data": {
      "text/html": [
       "<div>\n",
       "<style scoped>\n",
       "    .dataframe tbody tr th:only-of-type {\n",
       "        vertical-align: middle;\n",
       "    }\n",
       "\n",
       "    .dataframe tbody tr th {\n",
       "        vertical-align: top;\n",
       "    }\n",
       "\n",
       "    .dataframe thead th {\n",
       "        text-align: right;\n",
       "    }\n",
       "</style>\n",
       "<table border=\"1\" class=\"dataframe\">\n",
       "  <thead>\n",
       "    <tr style=\"text-align: right;\">\n",
       "      <th></th>\n",
       "      <th>predicted &gt;50K</th>\n",
       "      <th>predicted &lt;=50K</th>\n",
       "    </tr>\n",
       "  </thead>\n",
       "  <tbody>\n",
       "    <tr>\n",
       "      <th>actual &gt;50K</th>\n",
       "      <td>7694</td>\n",
       "      <td>466</td>\n",
       "    </tr>\n",
       "    <tr>\n",
       "      <th>actual &lt;=50K</th>\n",
       "      <td>924</td>\n",
       "      <td>1662</td>\n",
       "    </tr>\n",
       "  </tbody>\n",
       "</table>\n",
       "</div>"
      ],
      "text/plain": [
       "              predicted >50K  predicted <=50K\n",
       "actual >50K             7694              466\n",
       "actual <=50K             924             1662"
      ]
     },
     "execution_count": 23,
     "metadata": {},
     "output_type": "execute_result"
    }
   ],
   "source": [
    "# Построим матрицу ошибок для леса с оптимальным количеством деревьев\n",
    "cat = CatBoostClassifier(learning_rate=0.5, loss_function='Logloss', n_estimators = index_best_F, logging_level=None)\n",
    "cat.fit(X_train, y_train, verbose = False)\n",
    "confusion_matrix = metrics.confusion_matrix(y_test, cat.predict(X_test))\n",
    "pd.DataFrame(data = confusion_matrix, columns = ['predicted >50K', 'predicted <=50K'], index = ['actual >50K', 'actual <=50K'])"
   ]
  },
  {
   "cell_type": "markdown",
   "source": [
    "<h2>Вывод по применению алгоритмов на основе решающих деревьев</h2>\n",
    "\n",
    "<h3>Решаюшие деревья</h3>\n",
    "\n",
    "Оптимальным значением глубины решающего дерева явлется <b>значение = 13, при этом F-мера = 0.67912. Время расчёта t = 18.162 c</b>\n",
    "\n",
    "<h3>Случайный лес</h3>\n",
    "\n",
    "Оптимальным значением количества решающих деревьев в композиции явлется <b>значение = 80, при этом F-мера = 0.67621</b>. Также заметно, что чем больше деревьев в композиции тем лучше, то это не означает, что лучше. Также время алгоритма намного больше чем в первом случае <b> t = 145.76 c</b>\n",
    "\n",
    "<h3>Бустинг</h3>\n",
    "\n",
    "Оптимальным значением количества решающих деревьев в композиции явлется <b>значение = 84, при этом F-мера = 0.70513</b>. Данное значение также улучшилось по сравнению со случайным лесом <b> t = 31.750 c</b>"
   ],
   "metadata": {
    "collapsed": false,
    "pycharm": {
     "name": "#%% md\n"
    }
   }
  },
  {
   "cell_type": "markdown",
   "source": [
    "<h2>Пункт 7-7.1 Обучение модели многослойного перцепторна</h2>\n",
    "<h3>Пункт 7.1 Подготовка данных</h3>\n",
    "<h3>Пункт 7.2. Обучение модели многослойного перцепторна. Обучить модель многослойного перцептрона для задачи классификации с оптимальными параметрами.</h3>"
   ],
   "metadata": {
    "collapsed": false,
    "pycharm": {
     "name": "#%% md\n"
    }
   }
  },
  {
   "cell_type": "code",
   "execution_count": 19,
   "outputs": [
    {
     "name": "stdout",
     "output_type": "stream",
     "text": [
      "Model: \"sequential\"\n",
      "_________________________________________________________________\n",
      " Layer (type)                Output Shape              Param #   \n",
      "=================================================================\n",
      " dense (Dense)               (None, 32)                480       \n",
      "                                                                 \n",
      " activation (Activation)     (None, 32)                0         \n",
      "                                                                 \n",
      " dropout (Dropout)           (None, 32)                0         \n",
      "                                                                 \n",
      " dense_1 (Dense)             (None, 16)                528       \n",
      "                                                                 \n",
      " activation_1 (Activation)   (None, 16)                0         \n",
      "                                                                 \n",
      " dense_2 (Dense)             (None, 2)                 34        \n",
      "                                                                 \n",
      " activation_2 (Activation)   (None, 2)                 0         \n",
      "                                                                 \n",
      "=================================================================\n",
      "Total params: 1,042\n",
      "Trainable params: 1,042\n",
      "Non-trainable params: 0\n",
      "_________________________________________________________________\n",
      "Epoch 1/30\n",
      "682/682 [==============================] - 3s 2ms/step - loss: 2207.3977 - precision: 0.6654 - recall: 0.6654 - val_loss: 69.0292 - val_precision: 0.7875 - val_recall: 0.7875\n",
      "Epoch 2/30\n",
      "682/682 [==============================] - 1s 2ms/step - loss: 181.2761 - precision: 0.7255 - recall: 0.7255 - val_loss: 42.3772 - val_precision: 0.2403 - val_recall: 0.2403\n",
      "Epoch 3/30\n",
      "682/682 [==============================] - 1s 2ms/step - loss: 102.3039 - precision: 0.7268 - recall: 0.7268 - val_loss: 41.8193 - val_precision: 0.7937 - val_recall: 0.7937\n",
      "Epoch 4/30\n",
      "682/682 [==============================] - 1s 2ms/step - loss: 57.4718 - precision: 0.7305 - recall: 0.7305 - val_loss: 16.0103 - val_precision: 0.7952 - val_recall: 0.7952\n",
      "Epoch 5/30\n",
      "682/682 [==============================] - 1s 2ms/step - loss: 29.5629 - precision: 0.7290 - recall: 0.7290 - val_loss: 29.1823 - val_precision: 0.7885 - val_recall: 0.7885\n",
      "Epoch 6/30\n",
      "682/682 [==============================] - 1s 2ms/step - loss: 12.4372 - precision: 0.7250 - recall: 0.7250 - val_loss: 6.2112 - val_precision: 0.7920 - val_recall: 0.7920\n",
      "Epoch 7/30\n",
      "682/682 [==============================] - 1s 2ms/step - loss: 3.5705 - precision: 0.7210 - recall: 0.7210 - val_loss: 0.7573 - val_precision: 0.7915 - val_recall: 0.7915\n",
      "Epoch 8/30\n",
      "682/682 [==============================] - 1s 2ms/step - loss: 1.3106 - precision: 0.7465 - recall: 0.7465 - val_loss: 0.6333 - val_precision: 0.7959 - val_recall: 0.7959\n",
      "Epoch 9/30\n",
      "682/682 [==============================] - 1s 2ms/step - loss: 0.8357 - precision: 0.7834 - recall: 0.7834 - val_loss: 0.5930 - val_precision: 0.7897 - val_recall: 0.7897\n",
      "Epoch 10/30\n",
      "682/682 [==============================] - 1s 2ms/step - loss: 0.6158 - precision: 0.7887 - recall: 0.7887 - val_loss: 0.5383 - val_precision: 0.7906 - val_recall: 0.7906\n",
      "Epoch 11/30\n",
      "682/682 [==============================] - 1s 2ms/step - loss: 0.5879 - precision: 0.7876 - recall: 0.7876 - val_loss: 0.5258 - val_precision: 0.7849 - val_recall: 0.7849\n",
      "Epoch 12/30\n",
      "682/682 [==============================] - 1s 2ms/step - loss: 0.5637 - precision: 0.7826 - recall: 0.7826 - val_loss: 0.5261 - val_precision: 0.7808 - val_recall: 0.7808\n",
      "Epoch 13/30\n",
      "682/682 [==============================] - 1s 2ms/step - loss: 0.5533 - precision: 0.7799 - recall: 0.7799 - val_loss: 0.5366 - val_precision: 0.7750 - val_recall: 0.7750\n",
      "Epoch 14/30\n",
      "682/682 [==============================] - 1s 2ms/step - loss: 0.5494 - precision: 0.7774 - recall: 0.7774 - val_loss: 0.5381 - val_precision: 0.7700 - val_recall: 0.7700\n",
      "Epoch 15/30\n",
      "682/682 [==============================] - 1s 2ms/step - loss: 0.5435 - precision: 0.7740 - recall: 0.7740 - val_loss: 0.5292 - val_precision: 0.7849 - val_recall: 0.7849\n",
      "Epoch 16/30\n",
      "682/682 [==============================] - 1s 2ms/step - loss: 0.5492 - precision: 0.7722 - recall: 0.7722 - val_loss: 0.5395 - val_precision: 0.7679 - val_recall: 0.7679\n",
      "Epoch 17/30\n",
      "682/682 [==============================] - 1s 2ms/step - loss: 0.5498 - precision: 0.7688 - recall: 0.7688 - val_loss: 0.5352 - val_precision: 0.7715 - val_recall: 0.7715\n",
      "Epoch 18/30\n",
      "682/682 [==============================] - 1s 2ms/step - loss: 0.5502 - precision: 0.7684 - recall: 0.7684 - val_loss: 0.5305 - val_precision: 0.7761 - val_recall: 0.7761\n",
      "Epoch 19/30\n",
      "682/682 [==============================] - 1s 2ms/step - loss: 0.5175 - precision: 0.7848 - recall: 0.7848 - val_loss: 0.4912 - val_precision: 0.7998 - val_recall: 0.7998\n",
      "Epoch 20/30\n",
      "682/682 [==============================] - 1s 2ms/step - loss: 0.5906 - precision: 0.7810 - recall: 0.7810 - val_loss: 0.4966 - val_precision: 0.7975 - val_recall: 0.7975\n",
      "Epoch 21/30\n",
      "682/682 [==============================] - 1s 2ms/step - loss: 0.5394 - precision: 0.7775 - recall: 0.7775 - val_loss: 0.5380 - val_precision: 0.7741 - val_recall: 0.7741\n",
      "Epoch 22/30\n",
      "682/682 [==============================] - 1s 2ms/step - loss: 0.5393 - precision: 0.7753 - recall: 0.7753 - val_loss: 0.5398 - val_precision: 0.7811 - val_recall: 0.7811\n",
      "Epoch 23/30\n",
      "682/682 [==============================] - 1s 2ms/step - loss: 0.5464 - precision: 0.7692 - recall: 0.7692 - val_loss: 0.5416 - val_precision: 0.7669 - val_recall: 0.7669\n",
      "Epoch 24/30\n",
      "682/682 [==============================] - 1s 2ms/step - loss: 0.5501 - precision: 0.7656 - recall: 0.7656 - val_loss: 0.5410 - val_precision: 0.7672 - val_recall: 0.7672\n",
      "Epoch 25/30\n",
      "682/682 [==============================] - 1s 2ms/step - loss: 0.5487 - precision: 0.7658 - recall: 0.7658 - val_loss: 0.5413 - val_precision: 0.7687 - val_recall: 0.7687\n",
      "Epoch 26/30\n",
      "682/682 [==============================] - 1s 2ms/step - loss: 0.5605 - precision: 0.7669 - recall: 0.7669 - val_loss: 0.5411 - val_precision: 0.7673 - val_recall: 0.7673\n",
      "Epoch 27/30\n",
      "682/682 [==============================] - 1s 2ms/step - loss: 0.5467 - precision: 0.7647 - recall: 0.7647 - val_loss: 0.5410 - val_precision: 0.7673 - val_recall: 0.7673\n",
      "Epoch 28/30\n",
      "682/682 [==============================] - 1s 2ms/step - loss: 0.5461 - precision: 0.7647 - recall: 0.7647 - val_loss: 0.5423 - val_precision: 0.7661 - val_recall: 0.7661\n",
      "Epoch 29/30\n",
      "682/682 [==============================] - 1s 2ms/step - loss: 0.5445 - precision: 0.7647 - recall: 0.7647 - val_loss: 0.5408 - val_precision: 0.7674 - val_recall: 0.7674\n",
      "Epoch 30/30\n",
      "682/682 [==============================] - 1s 2ms/step - loss: 0.5591 - precision: 0.7639 - recall: 0.7639 - val_loss: 0.5443 - val_precision: 0.7647 - val_recall: 0.7647\n"
     ]
    },
    {
     "data": {
      "image/png": "[encoded data removed]",
      "text/plain": [
       "<Figure size 576x432 with 1 Axes>"
      ]
     },
     "metadata": {
      "needs_background": "light"
     },
     "output_type": "display_data"
    },
    {
     "name": "stdout",
     "output_type": "stream",
     "text": [
      "Наилучшая F-мера  0.7998325228691101\n",
      "Время работы алгоритма -  42.60221886634827  секунд\n"
     ]
    }
   ],
   "source": [
    "# 7. Обучение модели многослойного перцепторна\n",
    "from tensorflow.python.keras.utils import np_utils\n",
    "from tensorflow.keras.models import Sequential\n",
    "from tensorflow.keras.layers import Dense, Activation, Dropout\n",
    "\n",
    "y=df[\"income\"]\n",
    "X=df.drop(columns=(['income']))\n",
    "# Разделить датасет на обучающую и тестовую выборки\n",
    "X_train, X_test, y_train, y_test = train_test_split(X, y, test_size=0.33)\n",
    "\n",
    "# 7.1 Подготовка данных для обучения нейросети\n",
    "t0 = time()\n",
    "# Лучшая метрика F и ее индекс\n",
    "best_F = 0\n",
    "index_best_F = 0\n",
    "# Заполним пропущенные значения в данных. Сделаем это, выбрав наиболее часто встречающиеся значения признаков в качестве замены\n",
    "X['workclass'].fillna(X['workclass'].mode()[0], inplace=True)\n",
    "X['occupation'].fillna(X['occupation'].mode()[0], inplace=True)\n",
    "X['native_country'].fillna(X['native_country'].mode()[0], inplace=True)\n",
    "# Далее приведем данные к типу NumPy - numpy.ndarray\n",
    "X_train = X_train.to_numpy(dtype=('float32'))\n",
    "X_test = X_test.to_numpy(dtype=('float32'))\n",
    "#Для задачи бинарной классификации, выразим вектор бинарных ответов двумя бинарными векторами (1 и 0)\n",
    "y_train = np_utils.to_categorical(y_train, 2)\n",
    "y_test = np_utils.to_categorical(y_test, 2)\n",
    "# Выберем последовательную модель сборки и соберем архитектуру нейросети\n",
    "NB_CLASSES = y_train.shape[1]\n",
    "INPUT_SHAPE = (X_train.shape[1],)\n",
    "model = Sequential()\n",
    "model.add(Dense(32, input_shape=INPUT_SHAPE))\n",
    "model.add(Activation('relu'))\n",
    "model.add(Dropout(0.3))\n",
    "model.add(Dense(16))\n",
    "model.add(Activation('relu'))\n",
    "#model.add(Dense(8))\n",
    "#model.add(Activation('relu'))\n",
    "model.add(Dense(NB_CLASSES))\n",
    "model.add(Activation('softmax'))\n",
    "model.summary()\n",
    "# Скомпилируем модель\n",
    "model.compile(loss='binary_crossentropy',optimizer = 'Nadam',metrics=['Precision', 'Recall'])\n",
    "EPOCHS = 30\n",
    "history = model.fit(X_train, y_train,batch_size = 32, epochs = EPOCHS,verbose = 1, validation_data = (X_test, y_test))\n",
    "# После обучения считаем значение F-меры\n",
    "f1_score_list_train = []\n",
    "f1_score_list_test = []\n",
    "for i in range(EPOCHS):\n",
    "    f1_score_list_train.append(2 * history.history['precision'][i] *\n",
    "    history.history['recall'][i] / (history.history['precision'][i] +\n",
    "    history.history['recall'][i]))\n",
    "    f1_score_list_test.append(2 * history.history['val_precision'][i] *\n",
    "    history.history['val_recall'][i] / (history.history['val_precision'][i] +\n",
    "    history.history['val_recall'][i]))\n",
    "    if (f1_score_list_test[i] > best_F):\n",
    "        best_F = f1_score_list_test[i]\n",
    "\n",
    "# Визуализация полученных данных\n",
    "fig, ax = plt.subplots(figsize=(8, 6))\n",
    "ax.plot(f1_score_list_train, label='F_train')\n",
    "ax.plot(f1_score_list_test, label='F_test')\n",
    "ax.grid(True)\n",
    "ax.set_title(\"Neural network\")\n",
    "ax.set_xlabel(\"Epochs\", fontsize=14)\n",
    "ax.set_ylabel(\"F value\", fontsize=14)\n",
    "ax.legend()\n",
    "plt.show()\n",
    "\n",
    "t1 = time()\n",
    "alg_time = t1-t0\n",
    "print('Наилучшая F-мера ', best_F)\n",
    "print('Время работы алгоритма - ', alg_time, ' секунд')"
   ],
   "metadata": {
    "collapsed": false,
    "pycharm": {
     "name": "#%%\n"
    }
   }
  },
  {
   "cell_type": "markdown",
   "source": [
    "<h3>Пункт 7.2. Обучение модели многослойного перцепторна. Обучить модель многослойного перцептрона для задачи классификации с оптимальными параметрами.</h3>"
   ],
   "metadata": {
    "collapsed": false,
    "pycharm": {
     "name": "#%% md\n"
    }
   }
  },
  {
   "cell_type": "code",
   "execution_count": 23,
   "outputs": [
    {
     "name": "stdout",
     "output_type": "stream",
     "text": [
      "Epoch 1/30\n",
      "682/682 [==============================] - 1s 2ms/step - loss: 0.5476 - precision: 0.7622 - recall: 0.7622 - val_loss: 0.5406 - val_precision: 0.7694 - val_recall: 0.7694\n",
      "Epoch 2/30\n",
      "682/682 [==============================] - 1s 2ms/step - loss: 0.5418 - precision: 0.7684 - recall: 0.7684 - val_loss: 0.5437 - val_precision: 0.7739 - val_recall: 0.7739\n",
      "Epoch 3/30\n",
      "682/682 [==============================] - 1s 2ms/step - loss: 0.5448 - precision: 0.7668 - recall: 0.7668 - val_loss: 0.5399 - val_precision: 0.7696 - val_recall: 0.7696\n",
      "Epoch 4/30\n",
      "682/682 [==============================] - 1s 2ms/step - loss: 0.5510 - precision: 0.7655 - recall: 0.7655 - val_loss: 0.5408 - val_precision: 0.7676 - val_recall: 0.7676\n",
      "Epoch 5/30\n",
      "682/682 [==============================] - 1s 2ms/step - loss: 0.5502 - precision: 0.7618 - recall: 0.7618 - val_loss: 0.5408 - val_precision: 0.7678 - val_recall: 0.7678\n",
      "Epoch 6/30\n",
      "682/682 [==============================] - 1s 2ms/step - loss: 0.5467 - precision: 0.7632 - recall: 0.7632 - val_loss: 0.5238 - val_precision: 0.7849 - val_recall: 0.7849\n",
      "Epoch 7/30\n",
      "682/682 [==============================] - 1s 2ms/step - loss: 0.5542 - precision: 0.7681 - recall: 0.7681 - val_loss: 0.5407 - val_precision: 0.7691 - val_recall: 0.7691\n",
      "Epoch 8/30\n",
      "682/682 [==============================] - 1s 2ms/step - loss: 0.5492 - precision: 0.7631 - recall: 0.7631 - val_loss: 0.5401 - val_precision: 0.7688 - val_recall: 0.7688\n",
      "Epoch 9/30\n",
      "682/682 [==============================] - 1s 2ms/step - loss: 0.5481 - precision: 0.7642 - recall: 0.7642 - val_loss: 0.5412 - val_precision: 0.7695 - val_recall: 0.7695\n",
      "Epoch 10/30\n",
      "682/682 [==============================] - 1s 2ms/step - loss: 0.5461 - precision: 0.7657 - recall: 0.7657 - val_loss: 0.5400 - val_precision: 0.7687 - val_recall: 0.7687\n",
      "Epoch 11/30\n",
      "682/682 [==============================] - 1s 2ms/step - loss: 0.5486 - precision: 0.7630 - recall: 0.7630 - val_loss: 0.5419 - val_precision: 0.7669 - val_recall: 0.7669\n",
      "Epoch 12/30\n",
      "682/682 [==============================] - 1s 2ms/step - loss: 0.5494 - precision: 0.7617 - recall: 0.7617 - val_loss: 0.5411 - val_precision: 0.7674 - val_recall: 0.7674\n",
      "Epoch 13/30\n",
      "682/682 [==============================] - 1s 2ms/step - loss: 0.5509 - precision: 0.7619 - recall: 0.7619 - val_loss: 0.5416 - val_precision: 0.7672 - val_recall: 0.7672\n",
      "Epoch 14/30\n",
      "682/682 [==============================] - 1s 2ms/step - loss: 0.5504 - precision: 0.7613 - recall: 0.7613 - val_loss: 0.5412 - val_precision: 0.7673 - val_recall: 0.7673\n",
      "Epoch 15/30\n",
      "682/682 [==============================] - 1s 2ms/step - loss: 0.5418 - precision: 0.7734 - recall: 0.7734 - val_loss: 0.5394 - val_precision: 0.7692 - val_recall: 0.7692\n",
      "Epoch 16/30\n",
      "682/682 [==============================] - 1s 2ms/step - loss: 0.5318 - precision: 0.7747 - recall: 0.7747 - val_loss: 0.5414 - val_precision: 0.7674 - val_recall: 0.7674\n",
      "Epoch 17/30\n",
      "682/682 [==============================] - 1s 2ms/step - loss: 0.5479 - precision: 0.7637 - recall: 0.7637 - val_loss: 0.5401 - val_precision: 0.7697 - val_recall: 0.7697\n",
      "Epoch 18/30\n",
      "682/682 [==============================] - 1s 2ms/step - loss: 0.5451 - precision: 0.7639 - recall: 0.7639 - val_loss: 0.5401 - val_precision: 0.7710 - val_recall: 0.7710\n",
      "Epoch 19/30\n",
      "682/682 [==============================] - 1s 2ms/step - loss: 0.5517 - precision: 0.7642 - recall: 0.7642 - val_loss: 0.5406 - val_precision: 0.7679 - val_recall: 0.7679\n",
      "Epoch 20/30\n",
      "682/682 [==============================] - 1s 2ms/step - loss: 0.5507 - precision: 0.7625 - recall: 0.7625 - val_loss: 0.5420 - val_precision: 0.7668 - val_recall: 0.7668\n",
      "Epoch 21/30\n",
      "682/682 [==============================] - 1s 2ms/step - loss: 0.5498 - precision: 0.7620 - recall: 0.7620 - val_loss: 0.5406 - val_precision: 0.7679 - val_recall: 0.7679\n",
      "Epoch 22/30\n",
      "682/682 [==============================] - 1s 2ms/step - loss: 0.5501 - precision: 0.7647 - recall: 0.7647 - val_loss: 0.5750 - val_precision: 0.7677 - val_recall: 0.7677\n",
      "Epoch 23/30\n",
      "682/682 [==============================] - 1s 2ms/step - loss: 0.5497 - precision: 0.7621 - recall: 0.7621 - val_loss: 0.5400 - val_precision: 0.7688 - val_recall: 0.7688\n",
      "Epoch 24/30\n",
      "682/682 [==============================] - 1s 2ms/step - loss: 0.5450 - precision: 0.7641 - recall: 0.7641 - val_loss: 0.5357 - val_precision: 0.7850 - val_recall: 0.7850\n",
      "Epoch 25/30\n",
      "682/682 [==============================] - 1s 2ms/step - loss: 0.5362 - precision: 0.7744 - recall: 0.7744 - val_loss: 0.5340 - val_precision: 0.7837 - val_recall: 0.7837\n",
      "Epoch 26/30\n",
      "682/682 [==============================] - 1s 2ms/step - loss: 0.5494 - precision: 0.7648 - recall: 0.7648 - val_loss: 0.5386 - val_precision: 0.7695 - val_recall: 0.7695\n",
      "Epoch 27/30\n",
      "682/682 [==============================] - 1s 2ms/step - loss: 0.5393 - precision: 0.7695 - recall: 0.7695 - val_loss: 0.5453 - val_precision: 0.7744 - val_recall: 0.7744\n",
      "Epoch 28/30\n",
      "682/682 [==============================] - 1s 2ms/step - loss: 0.5515 - precision: 0.7675 - recall: 0.7675 - val_loss: 0.5399 - val_precision: 0.7691 - val_recall: 0.7691\n",
      "Epoch 29/30\n",
      "682/682 [==============================] - 1s 2ms/step - loss: 0.5444 - precision: 0.7665 - recall: 0.7665 - val_loss: 0.5402 - val_precision: 0.7681 - val_recall: 0.7681\n",
      "Epoch 30/30\n",
      "682/682 [==============================] - 1s 2ms/step - loss: 0.5467 - precision: 0.7658 - recall: 0.7658 - val_loss: 0.6458 - val_precision: 0.7811 - val_recall: 0.7811\n"
     ]
    },
    {
     "data": {
      "text/html": [
       "<div>\n",
       "<style scoped>\n",
       "    .dataframe tbody tr th:only-of-type {\n",
       "        vertical-align: middle;\n",
       "    }\n",
       "\n",
       "    .dataframe tbody tr th {\n",
       "        vertical-align: top;\n",
       "    }\n",
       "\n",
       "    .dataframe thead th {\n",
       "        text-align: right;\n",
       "    }\n",
       "</style>\n",
       "<table border=\"1\" class=\"dataframe\">\n",
       "  <thead>\n",
       "    <tr style=\"text-align: right;\">\n",
       "      <th></th>\n",
       "      <th>predicted &gt;50K</th>\n",
       "      <th>predicted &lt;=50K</th>\n",
       "    </tr>\n",
       "  </thead>\n",
       "  <tbody>\n",
       "    <tr>\n",
       "      <th>actual &gt;50K</th>\n",
       "      <td>8193</td>\n",
       "      <td>0</td>\n",
       "    </tr>\n",
       "    <tr>\n",
       "      <th>actual &lt;=50K</th>\n",
       "      <td>2504</td>\n",
       "      <td>49</td>\n",
       "    </tr>\n",
       "  </tbody>\n",
       "</table>\n",
       "</div>"
      ],
      "text/plain": [
       "              predicted >50K  predicted <=50K\n",
       "actual >50K             8193                0\n",
       "actual <=50K            2504               49"
      ]
     },
     "execution_count": 23,
     "metadata": {},
     "output_type": "execute_result"
    }
   ],
   "source": [
    "# Прогноз по классам для построения матрицы ошибок\n",
    "y_predict = np.argmax(model.predict(X_test), axis=-1)\n",
    "history = model.fit(X_train, y_train,batch_size = 32, epochs = 30,verbose = 1, validation_data = (X_test, y_test))\n",
    "confusion_matrix = metrics.confusion_matrix(y_test.argmax(axis=1), y_predict)\n",
    "pd.DataFrame(data = confusion_matrix, columns = ['predicted >50K', 'predicted <=50K'], index = ['actual >50K', 'actual <=50K'])"
   ],
   "metadata": {
    "collapsed": false,
    "pycharm": {
     "name": "#%%\n"
    }
   }
  },
  {
   "cell_type": "markdown",
   "metadata": {
    "pycharm": {
     "name": "#%% md\n"
    }
   },
   "source": [
    "<h2>Пункт 8. Повторим пункты 6-7 для набора данных модели MNIST</h2>"
   ]
  },
  {
   "cell_type": "code",
   "execution_count": 20,
   "metadata": {
    "pycharm": {
     "name": "#%%\n"
    }
   },
   "outputs": [
    {
     "data": {
      "image/png": "[encoded data removed]",
      "text/plain": [
       "<Figure size 432x288 with 1 Axes>"
      ]
     },
     "metadata": {
      "needs_background": "light"
     },
     "output_type": "display_data"
    }
   ],
   "source": [
    "# 8. Повторим пункты 6-7 для набора данных MNIST\n",
    "# Загрузите данные MNIST с помощью TensorFlow\n",
    "from tensorflow.keras.datasets import mnist\n",
    "from sklearn.metrics import f1_score\n",
    "(X_train, y_train), (X_test, y_test) = mnist.load_data()\n",
    "# Визуализируем один из объектов\n",
    "sample = 1\n",
    "image = X_train[sample]\n",
    "fig = plt.figure\n",
    "plt.imshow(image, cmap='gray')\n",
    "plt.show()\n",
    "#Каждый объект представляет собой двумерный тензор 28х28 пикселей, его необходимо привести к одномерному вектору\n",
    "X_train = X_train.reshape(X_train.shape[0], 28*28)\n",
    "X_test = X_test.reshape(X_test.shape[0], 28*28)"
   ]
  },
  {
   "cell_type": "markdown",
   "metadata": {
    "pycharm": {
     "name": "#%% md\n"
    }
   },
   "source": [
    "<h3>Пункт 8.1 Алгоритм градиентного бустинга (Catboost) для модели MNIST</h3>"
   ]
  },
  {
   "cell_type": "code",
   "execution_count": 30,
   "metadata": {
    "pycharm": {
     "name": "#%%\n"
    },
    "scrolled": true
   },
   "outputs": [
    {
     "name": "stdout",
     "output_type": "stream",
     "text": [
      "0:\tlearn: 1.3693570\ttotal: 2.05s\tremaining: 0us\n"
     ]
    },
    {
     "data": {
      "image/png": "[encoded data removed]",
      "text/plain": [
       "<Figure size 576x432 with 1 Axes>"
      ]
     },
     "metadata": {
      "needs_background": "light"
     },
     "output_type": "display_data"
    },
    {
     "name": "stdout",
     "output_type": "stream",
     "text": [
      "Наилучшее количество деревьев -  1 , с F-метрикой  0.581\n",
      "Время работы алгоритма -  44.158183574676514  секунд\n"
     ]
    }
   ],
   "source": [
    "# 8.1 Алгоритм градиентного бустинга для модели MNIST\n",
    "t0 = time()\n",
    "# Задаем диапазон для поиска количества деревьев в композиции\n",
    "boost_number = np.arange(1, 100, 1)\n",
    "#Массивы с данными оценок\n",
    "train_F = np.zeros(len(boost_number))\n",
    "test_F = np.zeros(len(boost_number))\n",
    "# Лучшая метрика F и ее индекс\n",
    "best_F = 0\n",
    "index_best_F = 0\n",
    "\n",
    "#Проводим перебор количества деревьев, меняя значения от 1 до 100\n",
    "for b in boost_number:\n",
    "    #Создаем и обучаем лес с жестко заданным количеством деревьев\n",
    "    cat = CatBoostClassifier(learning_rate=0.5, loss_function='MultiClass', n_estimators = b, logging_level=None)\n",
    "    cat.fit(X_train, y_train)\n",
    "    #Определяем значение F-метрики для тренировочной выборки\n",
    "    y_train_predict = cat.predict(X_train)\n",
    "    F_train = f1_score(y_train, cat.predict(X_train), average='micro')\n",
    "    train_F[(b - 1)] = F_train\n",
    "    #Определяем значение F-метрики для тестовой выборки\n",
    "    y_test_predict = cat.predict(X_test)\n",
    "    F_test = f1_score(y_test, cat.predict(X_test), average='micro')\n",
    "    test_F[(b - 1)] = F_test\n",
    "    #Определение наилучшего значения F\n",
    "    if (F_test > best_F):\n",
    "        best_F = F_test\n",
    "        index_best_F = b\n",
    "    \n",
    "# Визуализация полученных данных\n",
    "fig, ax = plt.subplots(figsize=(8, 6))\n",
    "ax.plot(train_F, label='F_train')\n",
    "ax.plot(test_F, label='F_test')\n",
    "ax.grid(True)\n",
    "ax.set_title(\"Gradient Boosting\")\n",
    "ax.set_xlabel(\"Trees\", fontsize=14)\n",
    "ax.set_ylabel(\"F value\", fontsize=14)\n",
    "ax.legend()\n",
    "plt.show()\n",
    "\n",
    "t1 = time()\n",
    "alg_time = t1-t0\n",
    "print('Наилучшее количество деревьев - ', index_best_F, ', с F-метрикой ', best_F)\n",
    "print('Время работы алгоритма - ', alg_time, ' секунд')"
   ]
  },
  {
   "cell_type": "code",
   "execution_count": 31,
   "metadata": {
    "pycharm": {
     "name": "#%%\n"
    }
   },
   "outputs": [
    {
     "name": "stdout",
     "output_type": "stream",
     "text": [
      "0:\tlearn: 1.3693570\ttotal: 2.15s\tremaining: 2.15s\n",
      "1:\tlearn: 1.0041482\ttotal: 4.14s\tremaining: 0us\n"
     ]
    },
    {
     "data": {
      "image/png": "[encoded data removed]",
      "text/plain": [
       "<Figure size 432x288 with 2 Axes>"
      ]
     },
     "metadata": {
      "needs_background": "light"
     },
     "output_type": "display_data"
    }
   ],
   "source": [
    "# Построим матрицу ошибок для леса с оптимальным количеством деревьев\n",
    "cat = CatBoostClassifier(learning_rate=0.5, loss_function='MultiClass', n_estimators = index_best_F, logging_level=None)\n",
    "cat.fit(X_train, y_train)\n",
    "#Для более наглядной визуализации матрицы ошибок для многоклассового случая можно наложить на нее тепловую карту\n",
    "confusion_matrix = metrics.confusion_matrix(y_test, cat.predict(X_test))\n",
    "confusion_matrix = pd.DataFrame(data = confusion_matrix, columns = ['0', '1', '2', '3', '4','5', '6', '7', '8', '9'], \n",
    "                  index = ['0', '1', '2', '3', '4', '5', '6', '7', '8', '9'])\n",
    "ax = sns.heatmap(confusion_matrix, annot=True, fmt=\"d\")"
   ]
  },
  {
   "cell_type": "markdown",
   "metadata": {
    "pycharm": {
     "name": "#%% md\n"
    }
   },
   "source": [
    "<h3>Пункт 8.2 Алгоритм нейронной сети для модели MNIST</h3>"
   ]
  },
  {
   "cell_type": "code",
   "execution_count": 21,
   "metadata": {
    "pycharm": {
     "name": "#%%\n"
    },
    "scrolled": false
   },
   "outputs": [
    {
     "name": "stdout",
     "output_type": "stream",
     "text": [
      "Model: \"sequential_1\"\n",
      "_________________________________________________________________\n",
      " Layer (type)                Output Shape              Param #   \n",
      "=================================================================\n",
      " dense_3 (Dense)             (None, 32)                25120     \n",
      "                                                                 \n",
      " activation_3 (Activation)   (None, 32)                0         \n",
      "                                                                 \n",
      " dropout_1 (Dropout)         (None, 32)                0         \n",
      "                                                                 \n",
      " dense_4 (Dense)             (None, 50)                1650      \n",
      "                                                                 \n",
      " activation_4 (Activation)   (None, 50)                0         \n",
      "                                                                 \n",
      " dense_5 (Dense)             (None, 30)                1530      \n",
      "                                                                 \n",
      " activation_5 (Activation)   (None, 30)                0         \n",
      "                                                                 \n",
      " dense_6 (Dense)             (None, 10)                310       \n",
      "                                                                 \n",
      " activation_6 (Activation)   (None, 10)                0         \n",
      "                                                                 \n",
      "=================================================================\n",
      "Total params: 28,610\n",
      "Trainable params: 28,610\n",
      "Non-trainable params: 0\n",
      "_________________________________________________________________\n",
      "Epoch 1/30\n",
      "1875/1875 [==============================] - 5s 2ms/step - loss: 1.3453 - precision: 0.8560 - recall: 0.2273 - val_loss: 0.8071 - val_precision: 0.8650 - val_recall: 0.5729\n",
      "Epoch 2/30\n",
      "1875/1875 [==============================] - 3s 2ms/step - loss: 0.8623 - precision: 0.8134 - recall: 0.5877 - val_loss: 0.6006 - val_precision: 0.8731 - val_recall: 0.7485\n",
      "Epoch 3/30\n",
      "1875/1875 [==============================] - 3s 2ms/step - loss: 0.7509 - precision: 0.8233 - recall: 0.6764 - val_loss: 0.5100 - val_precision: 0.8854 - val_recall: 0.8114\n",
      "Epoch 4/30\n",
      "1875/1875 [==============================] - 3s 2ms/step - loss: 0.6858 - precision: 0.8338 - recall: 0.7261 - val_loss: 0.4595 - val_precision: 0.8930 - val_recall: 0.8401\n",
      "Epoch 5/30\n",
      "1875/1875 [==============================] - 4s 2ms/step - loss: 0.6360 - precision: 0.8455 - recall: 0.7483 - val_loss: 0.4295 - val_precision: 0.9060 - val_recall: 0.8457\n",
      "Epoch 6/30\n",
      "1875/1875 [==============================] - 4s 2ms/step - loss: 0.6105 - precision: 0.8521 - recall: 0.7622 - val_loss: 0.4118 - val_precision: 0.9064 - val_recall: 0.8504\n",
      "Epoch 7/30\n",
      "1875/1875 [==============================] - 4s 2ms/step - loss: 0.5900 - precision: 0.8573 - recall: 0.7716 - val_loss: 0.3894 - val_precision: 0.9083 - val_recall: 0.8662\n",
      "Epoch 8/30\n",
      "1875/1875 [==============================] - 4s 2ms/step - loss: 0.5626 - precision: 0.8607 - recall: 0.7858 - val_loss: 0.3749 - val_precision: 0.9073 - val_recall: 0.8704\n",
      "Epoch 9/30\n",
      "1875/1875 [==============================] - 4s 2ms/step - loss: 0.5559 - precision: 0.8616 - recall: 0.7907 - val_loss: 0.3731 - val_precision: 0.9090 - val_recall: 0.8648\n",
      "Epoch 10/30\n",
      "1875/1875 [==============================] - 4s 2ms/step - loss: 0.5652 - precision: 0.8636 - recall: 0.7862 - val_loss: 0.3922 - val_precision: 0.9031 - val_recall: 0.8625\n",
      "Epoch 11/30\n",
      "1875/1875 [==============================] - 4s 2ms/step - loss: 0.5504 - precision: 0.8651 - recall: 0.7908 - val_loss: 0.3569 - val_precision: 0.9133 - val_recall: 0.8778\n",
      "Epoch 12/30\n",
      "1875/1875 [==============================] - 4s 2ms/step - loss: 0.5225 - precision: 0.8710 - recall: 0.8050 - val_loss: 0.3619 - val_precision: 0.9140 - val_recall: 0.8720\n",
      "Epoch 13/30\n",
      "1875/1875 [==============================] - 3s 2ms/step - loss: 0.5202 - precision: 0.8720 - recall: 0.8061 - val_loss: 0.3600 - val_precision: 0.9075 - val_recall: 0.8743\n",
      "Epoch 14/30\n",
      "1875/1875 [==============================] - 3s 2ms/step - loss: 0.5132 - precision: 0.8743 - recall: 0.8119 - val_loss: 0.3444 - val_precision: 0.9176 - val_recall: 0.8785\n",
      "Epoch 15/30\n",
      "1875/1875 [==============================] - 3s 2ms/step - loss: 0.4967 - precision: 0.8787 - recall: 0.8163 - val_loss: 0.3413 - val_precision: 0.9174 - val_recall: 0.8823\n",
      "Epoch 16/30\n",
      "1875/1875 [==============================] - 4s 2ms/step - loss: 0.4855 - precision: 0.8810 - recall: 0.8212 - val_loss: 0.3445 - val_precision: 0.9158 - val_recall: 0.8798\n",
      "Epoch 17/30\n",
      "1875/1875 [==============================] - 4s 2ms/step - loss: 0.4874 - precision: 0.8784 - recall: 0.8194 - val_loss: 0.3209 - val_precision: 0.9230 - val_recall: 0.8885\n",
      "Epoch 18/30\n",
      "1875/1875 [==============================] - 4s 2ms/step - loss: 0.4833 - precision: 0.8814 - recall: 0.8237 - val_loss: 0.3528 - val_precision: 0.9123 - val_recall: 0.8766\n",
      "Epoch 19/30\n",
      "1875/1875 [==============================] - 4s 2ms/step - loss: 0.4804 - precision: 0.8831 - recall: 0.8249 - val_loss: 0.3441 - val_precision: 0.9160 - val_recall: 0.8798\n",
      "Epoch 20/30\n",
      "1875/1875 [==============================] - 4s 2ms/step - loss: 0.4760 - precision: 0.8835 - recall: 0.8245 - val_loss: 0.3148 - val_precision: 0.9224 - val_recall: 0.8897\n",
      "Epoch 21/30\n",
      "1875/1875 [==============================] - 4s 2ms/step - loss: 0.4745 - precision: 0.8853 - recall: 0.8260 - val_loss: 0.3098 - val_precision: 0.9250 - val_recall: 0.8937\n",
      "Epoch 22/30\n",
      "1875/1875 [==============================] - 4s 2ms/step - loss: 0.4612 - precision: 0.8870 - recall: 0.8306 - val_loss: 0.3088 - val_precision: 0.9247 - val_recall: 0.8934\n",
      "Epoch 23/30\n",
      "1875/1875 [==============================] - 4s 2ms/step - loss: 0.4722 - precision: 0.8856 - recall: 0.8247 - val_loss: 0.3111 - val_precision: 0.9237 - val_recall: 0.8863\n",
      "Epoch 24/30\n",
      "1875/1875 [==============================] - 4s 2ms/step - loss: 0.4733 - precision: 0.8849 - recall: 0.8257 - val_loss: 0.3112 - val_precision: 0.9252 - val_recall: 0.8905\n",
      "Epoch 25/30\n",
      "1875/1875 [==============================] - 4s 2ms/step - loss: 0.4717 - precision: 0.8837 - recall: 0.8268 - val_loss: 0.3135 - val_precision: 0.9199 - val_recall: 0.8914\n",
      "Epoch 26/30\n",
      "1875/1875 [==============================] - 4s 2ms/step - loss: 0.4551 - precision: 0.8865 - recall: 0.8338 - val_loss: 0.3076 - val_precision: 0.9257 - val_recall: 0.8978\n",
      "Epoch 27/30\n",
      "1875/1875 [==============================] - 4s 2ms/step - loss: 0.4505 - precision: 0.8904 - recall: 0.8346 - val_loss: 0.3032 - val_precision: 0.9245 - val_recall: 0.8941\n",
      "Epoch 28/30\n",
      "1875/1875 [==============================] - 4s 2ms/step - loss: 0.4427 - precision: 0.8915 - recall: 0.8388 - val_loss: 0.3041 - val_precision: 0.9218 - val_recall: 0.8962\n",
      "Epoch 29/30\n",
      "1875/1875 [==============================] - 4s 2ms/step - loss: 0.4405 - precision: 0.8932 - recall: 0.8404 - val_loss: 0.3118 - val_precision: 0.9297 - val_recall: 0.8864\n",
      "Epoch 30/30\n",
      "1875/1875 [==============================] - 4s 2ms/step - loss: 0.4450 - precision: 0.8915 - recall: 0.8393 - val_loss: 0.2998 - val_precision: 0.9276 - val_recall: 0.8989\n"
     ]
    },
    {
     "data": {
      "image/png": "[encoded data removed]",
      "text/plain": [
       "<Figure size 576x432 with 1 Axes>"
      ]
     },
     "metadata": {
      "needs_background": "light"
     },
     "output_type": "display_data"
    },
    {
     "name": "stdout",
     "output_type": "stream",
     "text": [
      "Наилучшая F-мера  0.9130059206063477\n",
      "Время работы алгоритма -  111.7171561717987  секунд\n"
     ]
    }
   ],
   "source": [
    "# 8.2 Алгоритм нейронной сети для модели MNIST\n",
    "t0 = time()\n",
    "# Лучшая метрика F и ее индекс\n",
    "best_F = 0\n",
    "index_best_F = 0\n",
    "# Заполним пропущенные значения в данных. Сделаем это, выбрав наиболее часто встречающиеся значения признаков в качестве замены\n",
    "X['workclass'].fillna(X['workclass'].mode()[0], inplace=True)\n",
    "X['occupation'].fillna(X['occupation'].mode()[0], inplace=True)\n",
    "X['native_country'].fillna(X['native_country'].mode()[0], inplace=True)\n",
    "# Для обучения нейронной сети преобразуем векторы ответов\n",
    "y_train = np_utils.to_categorical(y_train, 10)\n",
    "y_test = np_utils.to_categorical(y_test, 10)\n",
    "# Выберем последовательную модель сборки и соберем архитектуру нейросети\n",
    "NB_CLASSES = y_train.shape[1]\n",
    "INPUT_SHAPE = (X_train.shape[1],)\n",
    "model = Sequential()\n",
    "model.add(Dense(32, input_shape=INPUT_SHAPE))\n",
    "model.add(Activation('sigmoid'))\n",
    "model.add(Dropout(0.3))\n",
    "model.add(Dense(50))\n",
    "model.add(Activation('sigmoid'))\n",
    "model.add(Dense(30))\n",
    "model.add(Activation('sigmoid'))\n",
    "model.add(Dense(NB_CLASSES))\n",
    "model.add(Activation('softmax'))\n",
    "model.summary()\n",
    "# Скомпилируем модель\n",
    "model.compile(loss='categorical_crossentropy',optimizer = 'adam',metrics=['Precision', 'Recall'])\n",
    "EPOCHS = 30\n",
    "history = model.fit(X_train, y_train,batch_size = 32, epochs = EPOCHS,verbose = 1, validation_data = (X_test, y_test))\n",
    "# После обучения считаем значение F-меры\n",
    "f1_score_list_train = []\n",
    "f1_score_list_test = []\n",
    "for i in range(EPOCHS):\n",
    "    if ((history.history['precision'][i] + history.history['recall'][i]) > 0):\n",
    "        f1_score_list_train.append(2 * history.history['precision'][i] * \n",
    "    history.history['recall'][i] / (history.history['precision'][i] +\n",
    "    history.history['recall'][i]))\n",
    "    else:\n",
    "        f1_score_list_train.append(0)\n",
    "    if ((history.history['val_precision'][i] + history.history['val_recall'][i]) > 0): #Вдруг precision и recall равны 0\n",
    "        f1_score_list_test.append(2 * history.history['val_precision'][i] *\n",
    "    history.history['val_recall'][i] / (history.history['val_precision'][i] +\n",
    "    history.history['val_recall'][i]))\n",
    "    else:\n",
    "        f1_score_list_test.append(0)\n",
    "    if (f1_score_list_test[i] > best_F):\n",
    "        best_F = f1_score_list_test[i]\n",
    "    \n",
    "# Визуализация полученных данных\n",
    "fig, ax = plt.subplots(figsize=(8, 6))\n",
    "ax.plot(f1_score_list_train, label='F_train')\n",
    "ax.plot(f1_score_list_test, label='F_test')\n",
    "ax.grid(True)\n",
    "ax.set_title(\"Neural network\")\n",
    "ax.set_xlabel(\"Epochs\", fontsize=14)\n",
    "ax.set_ylabel(\"F value\", fontsize=14)\n",
    "ax.legend()\n",
    "plt.show()\n",
    "\n",
    "t1 = time()\n",
    "alg_time = t1-t0\n",
    "print('Наилучшая F-мера ', best_F)\n",
    "print('Время работы алгоритма - ', alg_time, ' секунд')"
   ]
  },
  {
   "cell_type": "code",
   "execution_count": 22,
   "metadata": {
    "pycharm": {
     "name": "#%%\n"
    }
   },
   "outputs": [
    {
     "data": {
      "image/png": "[encoded data removed]",
      "text/plain": [
       "<Figure size 432x288 with 2 Axes>"
      ]
     },
     "metadata": {
      "needs_background": "light"
     },
     "output_type": "display_data"
    }
   ],
   "source": [
    "# Построим матрицу ошибок для нейронной сети\n",
    "import seaborn as sns\n",
    "y_pred=model.predict(X_test) \n",
    "y_pred=np.argmax(y_pred, axis=1)\n",
    "y_test=np.argmax(y_test, axis=1)\n",
    "#Для более наглядной визуализации матрицы ошибок для многоклассового случая можно наложить на нее тепловую карту\n",
    "confusion_matrix = metrics.confusion_matrix(y_test, y_pred)\n",
    "confusion_matrix = pd.DataFrame(data = confusion_matrix, columns = ['0', '1', '2', '3', '4','5', '6', '7', '8', '9'], \n",
    "                  index = ['0', '1', '2', '3', '4', '5', '6', '7', '8', '9'])\n",
    "ax = sns.heatmap(confusion_matrix, annot=True, fmt=\"d\")"
   ]
  },
  {
   "cell_type": "markdown",
   "metadata": {
    "pycharm": {
     "name": "#%% md\n"
    }
   },
   "source": [
    "<h3>Вывод</h3>\n",
    "\n",
    "В работе была проанализирована работа решающих дереввьев, случайного леса и град.бустинга для задачи классификации. Были выбраны по f1 мере оптимальные параметры для данных алгоритмов и построены матрицы ошибок. Можно сказать, что град.бустинг показал наилучший результат с увеличением кол-ва дереввьем, чем случайный лес.\n",
    "\n",
    "Для решения данной задачи была составлена модель нейронной сети - многослойный перцептрон. Сеть состоит из 4 слоев нейронов. Данная модель показывает хорошее качество по угадыванию цифр, что видно на матрице ошибок. Была проанализировавна f1-мера от количества эпох. <b>F-мера 0.913  Время работы алгоритма  t = 111.717 с</b>"
   ]
  },
  {
   "cell_type": "code",
   "execution_count": null,
   "metadata": {
    "pycharm": {
     "name": "#%%\n"
    }
   },
   "outputs": [],
   "source": []
  }
 ],
 "metadata": {
  "kernelspec": {
   "display_name": "Python 3 (ipykernel)",
   "language": "python",
   "name": "python3"
  },
  "language_info": {
   "codemirror_mode": {
    "name": "ipython",
    "version": 3
   },
   "file_extension": ".py",
   "mimetype": "text/x-python",
   "name": "python",
   "nbconvert_exporter": "python",
   "pygments_lexer": "ipython3",
   "version": "3.10.8"
  }
 },
 "nbformat": 4,
 "nbformat_minor": 4
}