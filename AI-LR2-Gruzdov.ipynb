{
 "cells": [
  {
   "cell_type": "markdown",
   "source": [
    "<html>\n",
    "<head>\n",
    "\t<title></title>\n",
    "</head>\n",
    "<body>\n",
    "<h2 style=\"text-align: center;line-height: 120%;\">ФЕДЕРАЛЬНОЕ ГОСУДАРСТВЕННОЕ БЮДЖЕТНОЕ ОБРАЗОВАТЕЛЬНОЕ УЧРЕЖДЕНИЕ ВЫСШЕГО ОБРАЗОВАНИЯ НАЦИОНАЛЬНЫЙ ИССЛЕДОВАТЕЛЬСКИЙ УНИВЕРСИТЕТ «МОСКОВСКИЙ ЭНЕРГЕТИЧЕСКИЙ ИНСТИТУТ»\n",
    "Кафедра «РЗиАЭ»</h2>\n",
    "<h2 style=\"text-align: center;line-height: 20%;\">Лабораторная работа №2</h2>\n",
    "\n",
    "<h3 style=\"text-align: center;line-height: 80%;\"><em>НАИВНЫЙ БАЙЕСОВСКИЙ КЛАССИФИКАТОР. МЕТОД\n",
    "ОПОПРНЫХ ВЕКТОРОВ</em></h3>\n",
    "\n",
    "<p style=\"text-align: right;line-height: 40%;\">Выполнил: студент группы Э-13м-21</p>\n",
    "\n",
    "<p style=\"text-align: right;line-height: 40%;\">Груздов А.Г.</p>\n",
    "\n",
    "<p style=\"text-align: right;line-height: 40%;\">Проверил: Нухулов С.М., Малютин М.С.</p>\n",
    "<h4 style=\"text-align: center;line-height: 100%;\"><em> Москва, 2022</em></h3>\n",
    "</body>\n",
    "</html>"
   ],
   "metadata": {
    "collapsed": false,
    "pycharm": {
     "name": "#%% md\n"
    }
   }
  },
  {
   "cell_type": "markdown",
   "source": [
    "<h2>Целью работы</h2>\n",
    "\n",
    "Является получение практических навыков работы с моделями байесовского классификатора и метода опорных векторов в программной среде Python.\n",
    "<ol>\n",
    "<li>Анализ, предварительную предобработку и визуализацию данных.</li>\n",
    "<li>Обучение и применение наивного байесовского классификатора и модели опорных векторов с оптимальными параметрами.</li>\n",
    "<li>Построение и визуализация матрицы ошибок и ROC-кривой для моделей с оптимальными выбранными параметрами, а также расчет метрики AUC-ROC.</li>\n",
    "</ol>"
   ],
   "metadata": {
    "collapsed": false,
    "pycharm": {
     "name": "#%% md\n"
    }
   }
  },
  {
   "cell_type": "markdown",
   "source": [
    "<h3>Импорт библиотек</h3>"
   ],
   "metadata": {
    "collapsed": false,
    "pycharm": {
     "name": "#%% md\n"
    }
   }
  },
  {
   "cell_type": "code",
   "execution_count": 103,
   "outputs": [],
   "source": [
    "import numpy as np\n",
    "import pandas as pd\n",
    "import matplotlib.pyplot as plt\n",
    "from sklearn.svm import SVC\n",
    "from sklearn.metrics import confusion_matrix\n",
    "from sklearn import metrics\n",
    "from sklearn.naive_bayes import MultinomialNB\n",
    "from sklearn import model_selection\n",
    "from collections import Counter\n",
    "from sklearn import feature_extraction"
   ],
   "metadata": {
    "collapsed": false,
    "pycharm": {
     "name": "#%%\n"
    }
   }
  },
  {
   "cell_type": "markdown",
   "source": [
    "<h3> 1. Загрузка анализируемых данных csv </h3>\n",
    "\n",
    "- Загрузим данные в формате «.csv» используем метод read_csv библиотеки Pandas, аргументом которого является путь к файлу.\n",
    "Метод возвращает объект класса DataFrame."
   ],
   "metadata": {
    "collapsed": false,
    "pycharm": {
     "name": "#%% md\n"
    }
   }
  },
  {
   "cell_type": "code",
   "execution_count": 104,
   "outputs": [
    {
     "data": {
      "text/plain": "  target                                               text\n0    ham  Go until jurong point, crazy.. Available only ...\n1    ham                      Ok lar... Joking wif u oni...\n2   spam  Free entry in 2 a wkly comp to win FA Cup fina...\n3    ham  U dun say so early hor... U c already then say...\n4    ham  Nah I don't think he goes to usf, he lives aro...",
      "text/html": "<div>\n<style scoped>\n    .dataframe tbody tr th:only-of-type {\n        vertical-align: middle;\n    }\n\n    .dataframe tbody tr th {\n        vertical-align: top;\n    }\n\n    .dataframe thead th {\n        text-align: right;\n    }\n</style>\n<table border=\"1\" class=\"dataframe\">\n  <thead>\n    <tr style=\"text-align: right;\">\n      <th></th>\n      <th>target</th>\n      <th>text</th>\n    </tr>\n  </thead>\n  <tbody>\n    <tr>\n      <th>0</th>\n      <td>ham</td>\n      <td>Go until jurong point, crazy.. Available only ...</td>\n    </tr>\n    <tr>\n      <th>1</th>\n      <td>ham</td>\n      <td>Ok lar... Joking wif u oni...</td>\n    </tr>\n    <tr>\n      <th>2</th>\n      <td>spam</td>\n      <td>Free entry in 2 a wkly comp to win FA Cup fina...</td>\n    </tr>\n    <tr>\n      <th>3</th>\n      <td>ham</td>\n      <td>U dun say so early hor... U c already then say...</td>\n    </tr>\n    <tr>\n      <th>4</th>\n      <td>ham</td>\n      <td>Nah I don't think he goes to usf, he lives aro...</td>\n    </tr>\n  </tbody>\n</table>\n</div>"
     },
     "execution_count": 104,
     "metadata": {},
     "output_type": "execute_result"
    }
   ],
   "source": [
    "data=pd.read_csv(r\"K:\\Project\\Python\\AI\\source\\spam.csv\", encoding = 'latin1')\n",
    "#Удаление ненужных столбцов\n",
    "data=data.drop(columns=['Unnamed: 2', 'Unnamed: 3','Unnamed: 4'])\n",
    "data = data.rename(columns={'v1': 'target', 'v2': 'text'})\n",
    "data.head(5)"
   ],
   "metadata": {
    "collapsed": false,
    "pycharm": {
     "name": "#%%\n"
    }
   }
  },
  {
   "cell_type": "markdown",
   "source": [
    "<h3> 2. Построить круговую диаграмму для принимаемых значений целевой переменной. </h3>\n",
    "\n",
    "- Используем метод plot класса DataFrame, чтобы построить круговую диаграмму целевых значений:"
   ],
   "metadata": {
    "collapsed": false,
    "pycharm": {
     "name": "#%% md\n"
    }
   }
  },
  {
   "cell_type": "code",
   "execution_count": 105,
   "outputs": [
    {
     "data": {
      "text/plain": "Text(0.5, 1.0, 'Диаграмма целевой переменной')"
     },
     "execution_count": 105,
     "metadata": {},
     "output_type": "execute_result"
    },
    {
     "data": {
      "text/plain": "<Figure size 432x288 with 1 Axes>",
      "image/png": "[encoded data removed]"
     },
     "metadata": {},
     "output_type": "display_data"
    }
   ],
   "source": [
    "target = pd.value_counts(data['target']) #столбец целевой переменной в объекте класса DataFrame.\n",
    "target.plot(kind = 'pie')\n",
    "plt.title('Диаграмма целевой переменной')"
   ],
   "metadata": {
    "collapsed": false,
    "pycharm": {
     "name": "#%%\n"
    }
   }
  },
  {
   "cell_type": "markdown",
   "source": [
    "<h3> 3. Построить столбиковую диаграмму для двадцати наиболее часто встречающихся слов в обоих классах.</h3>\n",
    "\n",
    "- Прежде вычислим наиболее часто встречающиеся слова в обоих классах. Для этого воспользуемся классом collections.Counter и методом most_common:"
   ],
   "metadata": {
    "collapsed": false,
    "pycharm": {
     "name": "#%% md\n"
    }
   }
  },
  {
   "cell_type": "markdown",
   "source": [
    "<h4>3.1 Для случая слова \"ham\"</h4>"
   ],
   "metadata": {
    "collapsed": false,
    "pycharm": {
     "name": "#%% md\n"
    }
   }
  },
  {
   "cell_type": "code",
   "execution_count": 106,
   "outputs": [],
   "source": [
    "ham_words = Counter(\" \".join(data[data['target']=='ham'][\"text\"]).split()).most_common(20)\n",
    "df_ham_words = pd.DataFrame.from_dict(ham_words)\n",
    "df_ham_words = df_ham_words.rename(columns={0: \"words of ham\", 1 : \"count\"})"
   ],
   "metadata": {
    "collapsed": false,
    "pycharm": {
     "name": "#%%\n"
    }
   }
  },
  {
   "cell_type": "markdown",
   "source": [
    "- Построим столбиковую диаграмму, воспользовавшись методом plot.bar класса DataFrame:"
   ],
   "metadata": {
    "collapsed": false,
    "pycharm": {
     "name": "#%% md\n"
    }
   }
  },
  {
   "cell_type": "code",
   "execution_count": 107,
   "outputs": [
    {
     "data": {
      "text/plain": "<Figure size 720x504 with 1 Axes>",
      "image/png": "[encoded data removed]"
     },
     "metadata": {
      "needs_background": "light"
     },
     "output_type": "display_data"
    }
   ],
   "source": [
    "df_ham_words.plot.bar(legend = False, color = 'green',figsize = (10,7))\n",
    "y_pos = np.arange(len(df_ham_words[\"words of ham\"]))\n",
    "plt.xticks(y_pos, df_ham_words[\"words of ham\"])\n",
    "plt.xlabel('words')\n",
    "plt.ylabel('number')\n",
    "plt.show()"
   ],
   "metadata": {
    "collapsed": false,
    "pycharm": {
     "name": "#%%\n"
    }
   }
  },
  {
   "cell_type": "markdown",
   "source": [
    "<h4>3.2 Для случая слова \"spam\"</h4>"
   ],
   "metadata": {
    "collapsed": false,
    "pycharm": {
     "name": "#%% md\n"
    }
   }
  },
  {
   "cell_type": "code",
   "execution_count": 108,
   "outputs": [
    {
     "data": {
      "text/plain": "<Figure size 720x504 with 1 Axes>",
      "image/png": "[encoded data removed]"
     },
     "metadata": {
      "needs_background": "light"
     },
     "output_type": "display_data"
    }
   ],
   "source": [
    "spam_words = Counter(\" \".join(data[data['target']=='spam']['text']).split()).most_common(20)\n",
    "df_spam_words = pd.DataFrame.from_dict(spam_words)\n",
    "df_spam_words = df_spam_words.rename(columns={0: \"words of spam\", 1 : \"count\"})\n",
    "df_ham_words.plot.bar(legend = False, color = 'red',figsize = (10,7))\n",
    "y_pos = np.arange(len(df_spam_words[\"words of spam\"]))\n",
    "plt.xticks(y_pos, df_spam_words[\"words of spam\"])\n",
    "plt.xlabel('words')\n",
    "plt.ylabel('number')\n",
    "plt.show()"
   ],
   "metadata": {
    "collapsed": false,
    "pycharm": {
     "name": "#%%\n"
    }
   }
  },
  {
   "cell_type": "markdown",
   "source": [
    "<h3>4. Выполнить токенизацию текстового признака, исключив неинформативные часто встречающиеся слова.</h3>\n",
    "\n",
    "Текст — это набор токенов. Токенизация – это преобразование текста в признаковый вектор,отражающий информационное содержание письма. В данной задаче для\n",
    "выполнения токенизации можно воспользоваться классом CountVectorizer библиотеки Scikit-learn"
   ],
   "metadata": {
    "collapsed": false,
    "pycharm": {
     "name": "#%% md\n"
    }
   }
  },
  {
   "cell_type": "code",
   "execution_count": 109,
   "outputs": [],
   "source": [
    "tokenizer = feature_extraction.text.CountVectorizer(stop_words = 'english')\n",
    "X = tokenizer.fit_transform(data['text'])"
   ],
   "metadata": {
    "collapsed": false,
    "pycharm": {
     "name": "#%%\n"
    }
   }
  },
  {
   "cell_type": "markdown",
   "source": [
    "<h3> 5. Найти оптимальный параметр сглаживания alpha для наивного байесовского классификатора по метрикам precision и accuracy. </h3>\n",
    "\n",
    "<img src=\"source/Формула Байеса.png\" tyle=\"text-align: center;line-height: 100%;\">\n",
    "\n",
    "<ul>\n",
    "<li>P(A|B) - вероятность, что слово В принадлежит к классу А(spam).</li>\n",
    "<li>P(B|A) - вероятность встретить слово В в классе А(spam).</li>\n",
    "<li>P(A) - вероятность встретить класс А среди всех текстов.</li>\n",
    "<li>P(B) - вероятность встретить слово В среди всех текстов.</li>\n",
    "</ul>\n",
    "\n",
    "НБА предполагает, что наличие какого-либо признака в классе не связано с наличием какого-либо другого признака. Цель классификации - понять к какому классу принадлежит слово, поэтому нужна не сама вероятность, а наиболее вероятный класс.\n",
    "\n",
    "<img src=\"https://imgur.com/dJqfWDv.png\" tyle=\"text-align: center;line-height: 100%;\">\n",
    "\n",
    "вхождение слова Xi в документ класса Qk:\n",
    "\n",
    "<img src=\"https://imgur.com/CfFpJlY.png\" tyle=\"text-align: center;line-height: 100%;\">\n",
    "\n",
    "<ul>\n",
    "<li>Nk - количество слов входящих в текст класса Qk.</li>\n",
    "<li>M - количество слов из обучающей выборки</li>\n",
    "<li>Nik - количество вхождений слова Xi в текст класса Qk</li>\n",
    "<li>a-сглаживающий параметр (чтобы значения логарифмируемых вероятностей были не слишком близки к 0, например при незнакомых словах(нет в словаре) в тексте).</li>\n",
    "</ul>\n",
    "\n",
    "Multinomial (мультиномиальное распределение). Используется в случае дискретных признаков. Признаки могут показывать, сколько раз каждое слово встречается в данном тексте."
   ],
   "metadata": {
    "collapsed": false,
    "pycharm": {
     "name": "#%% md\n"
    }
   }
  },
  {
   "cell_type": "code",
   "execution_count": 123,
   "outputs": [],
   "source": [
    "accuracy=[]\n",
    "accuracy_train=[]\n",
    "recall=[]\n",
    "precision=[]"
   ],
   "metadata": {
    "collapsed": false,
    "pycharm": {
     "name": "#%%\n"
    }
   }
  },
  {
   "cell_type": "markdown",
   "source": [
    "- Прежде, чем приступать к обучению классификатора, разобьем выборку на обучающую и тестовую"
   ],
   "metadata": {
    "collapsed": false,
    "pycharm": {
     "name": "#%% md\n"
    }
   }
  },
  {
   "cell_type": "code",
   "execution_count": 111,
   "outputs": [],
   "source": [
    "data['target'] = data['target'].map({'spam':1, 'ham':0})\n",
    "X_train, X_test, y_train, y_test = model_selection.train_test_split(X, data['target'], test_size = 0.33)"
   ],
   "metadata": {
    "collapsed": false,
    "pycharm": {
     "name": "#%%\n"
    }
   }
  },
  {
   "cell_type": "markdown",
   "source": [
    "- Определим оптимальный параметр alpha в диапазоне от 0,1 до 20 с шагом 0,1 и рассчитаем метрики качества, воспользовавшись библиотекой Scikit-learn"
   ],
   "metadata": {
    "collapsed": false,
    "pycharm": {
     "name": "#%% md\n"
    }
   }
  },
  {
   "cell_type": "code",
   "execution_count": 112,
   "outputs": [],
   "source": [
    "alpha_range = np.arange(0.1, 20, 0.1)\n",
    "for alpha in alpha_range:\n",
    "\n",
    "    mnb = MultinomialNB(alpha = alpha)\n",
    "    mnb.fit(X_train,y_train)\n",
    "    y_mnb = mnb.predict(X_test)\n",
    "    y_mnb_train = mnb.predict(X_train)\n",
    "\n",
    "    accuracy.append(metrics.accuracy_score(y_test,y_mnb))\n",
    "    accuracy_train.append(metrics.accuracy_score( y_train,y_mnb_train))\n",
    "    recall.append(metrics.recall_score( y_test,y_mnb))\n",
    "    precision.append(metrics.precision_score( y_test,y_mnb))"
   ],
   "metadata": {
    "collapsed": false,
    "pycharm": {
     "name": "#%%\n"
    }
   }
  },
  {
   "cell_type": "markdown",
   "source": [
    "- Для поиска оптимального параметра по полученным данным удобно свести значения метрик в одну таблицу:\n",
    "    - best_value – лучшее значение метрики precision.\n"
   ],
   "metadata": {
    "collapsed": false,
    "pycharm": {
     "name": "#%% md\n"
    }
   }
  },
  {
   "cell_type": "code",
   "execution_count": 113,
   "outputs": [
    {
     "name": "stdout",
     "output_type": "stream",
     "text": [
      "1.0\n"
     ]
    }
   ],
   "source": [
    "matrix  =  np.matrix(np.c_[alpha_range,accuracy_train,accuracy ,recall,precision])\n",
    "models = pd.DataFrame(data = matrix,  columns =  ['alpha', 'train accuracy',  'test accuracy',\n",
    "'test recall','test precision'])\n",
    "best_index = models['test precision'].idxmax()\n",
    "best_value=models['test precision'][best_index]\n",
    "print(best_value)\n",
    "best_index = models[models['test precision']==best_value]['test accuracy'].idxmax()"
   ],
   "metadata": {
    "collapsed": false,
    "pycharm": {
     "name": "#%%\n"
    }
   }
  },
  {
   "cell_type": "markdown",
   "source": [
    "- По найденному оптимальному параметру обучим новый классификатор, чтобы использовать его при выполнении следующих пунктов"
   ],
   "metadata": {
    "collapsed": false,
    "pycharm": {
     "name": "#%% md\n"
    }
   }
  },
  {
   "cell_type": "code",
   "execution_count": 114,
   "outputs": [
    {
     "data": {
      "text/plain": "MultinomialNB(alpha=17.400000000000002)"
     },
     "execution_count": 114,
     "metadata": {},
     "output_type": "execute_result"
    }
   ],
   "source": [
    "model = MultinomialNB(alpha = alpha_range[best_index])\n",
    "model.fit(X_train, y_train)"
   ],
   "metadata": {
    "collapsed": false,
    "pycharm": {
     "name": "#%%\n"
    }
   }
  },
  {
   "cell_type": "markdown",
   "source": [
    "<h3> 6. Зависимость метрики accuracy на обучающих и тестовых данных от варьируемого параметра и матрицы ошибок для модели с оптимальным выбранным параметром. </h3>"
   ],
   "metadata": {
    "collapsed": false,
    "pycharm": {
     "name": "#%% md\n"
    }
   }
  },
  {
   "cell_type": "markdown",
   "source": [
    "<h4> 6.1 Построим зависимость метрики accuracy на обучающих и тестовых данных от варьируемого параметра.</h4>"
   ],
   "metadata": {
    "collapsed": false,
    "pycharm": {
     "name": "#%% md\n"
    }
   }
  },
  {
   "cell_type": "code",
   "execution_count": 115,
   "outputs": [
    {
     "data": {
      "text/plain": "Text(0, 0.5, 'metric')"
     },
     "execution_count": 115,
     "metadata": {},
     "output_type": "execute_result"
    },
    {
     "data": {
      "text/plain": "<Figure size 720x360 with 1 Axes>",
      "image/png": "[encoded data removed]"
     },
     "metadata": {
      "needs_background": "light"
     },
     "output_type": "display_data"
    }
   ],
   "source": [
    "plt.figure(figsize = [10,5])\n",
    "plt.plot(alpha_range, accuracy)\n",
    "plt.plot(alpha_range, accuracy_train)\n",
    "plt.plot(alpha_range, recall)\n",
    "plt.plot(alpha_range, precision)\n",
    "plt.legend(['test acc','train acc','recall','prec'])\n",
    "plt.grid('on')\n",
    "plt.xlabel('alpha')\n",
    "plt.ylabel('metric')"
   ],
   "metadata": {
    "collapsed": false,
    "pycharm": {
     "name": "#%%\n"
    }
   }
  },
  {
   "cell_type": "markdown",
   "source": [
    "<h5>Вывод по графику</h5>\n",
    "\n",
    "- Из графика видно, что оптимальное значение alpha~3:5. при это частота правильных ответов ~ 0.985\n"
   ],
   "metadata": {
    "collapsed": false,
    "pycharm": {
     "name": "#%% md\n"
    }
   }
  },
  {
   "cell_type": "markdown",
   "source": [
    "<h4> 6.2 Построим матрицы ошибок для модели с оптимальным выбранным параметром.</h4>"
   ],
   "metadata": {
    "collapsed": false,
    "pycharm": {
     "name": "#%% md\n"
    }
   }
  },
  {
   "cell_type": "markdown",
   "source": [
    "Матрица показывает сколько объектов класса i были распознаны как объекты класса j.\n",
    "\n",
    "- True Positive (истинно-положительное решение): прогноз совпал с реальностью, результат положительный произошел, как и было предсказано ML-моделью.\n",
    "- False Positive (ложноположительное решение): ошибка 1-го рода, ML-модель предсказала положительный результат, а на самом деле он отрицательный.\n",
    "- False Negative (ложноотрицательное решение): ошибка 2-го рода – ML-модель предсказала отрицательный результат, но на самом деле он положительный.\n",
    "- True Negative (истинно-отрицательное решение): результат отрицательный, ML-прогноз совпал с реальностью.\n",
    "\n",
    "<img src=\"source/Матрица ошибок.png\" tyle=\"text-align: center;line-height: 100%;\">\n",
    "\n",
    "- Accuracy = (TP+TN)/(TP+FP+FN+TN) - процент правильно классифицированных объектов.\n",
    "- Precision = TP/(TP+FP) - процент правильно классифицированных объектов класса 1 среди всех объектов, которым алгоритм присвоил класс 1.\n",
    "- Recall = TP/(TP+FN) - процент правильно классифицированных объектов класса 1 среди всех объектов класса 1.\n",
    "\n",
    "F_1 = 2 * {precision*recall}/{precision+recall}"
   ],
   "metadata": {
    "collapsed": false,
    "pycharm": {
     "name": "#%% md\n"
    }
   }
  },
  {
   "cell_type": "code",
   "execution_count": 116,
   "outputs": [
    {
     "data": {
      "text/plain": "             predicted  ham  predicted spam\nactual ham             1577               0\nactual spam              52             210",
      "text/html": "<div>\n<style scoped>\n    .dataframe tbody tr th:only-of-type {\n        vertical-align: middle;\n    }\n\n    .dataframe tbody tr th {\n        vertical-align: top;\n    }\n\n    .dataframe thead th {\n        text-align: right;\n    }\n</style>\n<table border=\"1\" class=\"dataframe\">\n  <thead>\n    <tr style=\"text-align: right;\">\n      <th></th>\n      <th>predicted  ham</th>\n      <th>predicted spam</th>\n    </tr>\n  </thead>\n  <tbody>\n    <tr>\n      <th>actual ham</th>\n      <td>1577</td>\n      <td>0</td>\n    </tr>\n    <tr>\n      <th>actual spam</th>\n      <td>52</td>\n      <td>210</td>\n    </tr>\n  </tbody>\n</table>\n</div>"
     },
     "execution_count": 116,
     "metadata": {},
     "output_type": "execute_result"
    }
   ],
   "source": [
    "confusion_matrix = confusion_matrix(y_test, model.predict(X_test))\n",
    "pd.DataFrame(data  =  confusion_matrix,  columns  =  ['predicted  ham',\n",
    "'predicted spam'], index = ['actual ham', 'actual spam'])"
   ],
   "metadata": {
    "collapsed": false,
    "pycharm": {
     "name": "#%%\n"
    }
   }
  },
  {
   "cell_type": "code",
   "execution_count": 117,
   "outputs": [
    {
     "name": "stdout",
     "output_type": "stream",
     "text": [
      "1.0\n",
      "0.9672528805336568\n"
     ]
    }
   ],
   "source": [
    "precision = 1595/(1595+0)\n",
    "print(precision)\n",
    "recall = 1595/(1595+54)\n",
    "print(recall)"
   ],
   "metadata": {
    "collapsed": false,
    "pycharm": {
     "name": "#%%\n"
    }
   }
  },
  {
   "cell_type": "markdown",
   "source": [
    "<h5>Вывод по матрице ошибок</h5>\n",
    "\n",
    "- False Positive и False Negative имеют достаточно низкие значения"
   ],
   "metadata": {
    "collapsed": false,
    "pycharm": {
     "name": "#%% md\n"
    }
   }
  },
  {
   "cell_type": "markdown",
   "source": [
    "<h3> 7.Построить ROC-кривую и рассчитать метрику AUC-ROC.</h3>\n",
    "\n",
    "Результат визуализируем с помощью ROC-кривой(кривая ошибок), а качество - как площадь под этой кривой – AUC. Используют для оценивания качества упорядочивания алгоритмом объектов двух классов.\n",
    "\n",
    "1. ROC график, показывает зависимость верно классифицируемых объектов положительного класса от ложно положительно классифицируемых объектов негативного класса\n",
    "\n",
    "- По оси X отложена доля ошибочных положительных классификаций (False Positive Rate)\n",
    "- По оси Y – доля правильных положительных классификаций(True Positive Rate) или Recall, которую мы хотим максимизировать.\n",
    "\n",
    "2. AUC равен доле пар объектов вида (объект класса 1, объект класса 0), которые алгоритм верно упорядочил (объект класса 1 получил оценку выше, чем объект класса 0, т.е вероятность класса 1 быть распознанным как класс 1 выше, чем как класс 0)"
   ],
   "metadata": {
    "collapsed": false,
    "pycharm": {
     "name": "#%% md\n"
    }
   }
  },
  {
   "cell_type": "markdown",
   "source": [
    "- Рассчитаем значения кривой ROC, воспользовавшись библиотекой Scikit-learn:"
   ],
   "metadata": {
    "collapsed": false,
    "pycharm": {
     "name": "#%% md\n"
    }
   }
  },
  {
   "cell_type": "code",
   "execution_count": 118,
   "outputs": [],
   "source": [
    "y_pred_pr = model.predict_proba(X_test)[:,1]\n",
    "fpr, tpr, threshold = metrics. roc_curve (y_test, y_pred_pr)"
   ],
   "metadata": {
    "collapsed": false,
    "pycharm": {
     "name": "#%%\n"
    }
   }
  },
  {
   "cell_type": "markdown",
   "source": [
    "- Значение AUC-ROC (значение под кривой) посчитаем, используя библиотеку Scikitlearn"
   ],
   "metadata": {
    "collapsed": false,
    "pycharm": {
     "name": "#%% md\n"
    }
   }
  },
  {
   "cell_type": "code",
   "execution_count": 119,
   "outputs": [
    {
     "name": "stdout",
     "output_type": "stream",
     "text": [
      "0.9783892500496159\n"
     ]
    }
   ],
   "source": [
    "roc_auc = metrics.auc(fpr, tpr)\n",
    "print(roc_auc)"
   ],
   "metadata": {
    "collapsed": false,
    "pycharm": {
     "name": "#%%\n"
    }
   }
  },
  {
   "cell_type": "markdown",
   "source": [
    "- Построение AUC-ROC кривой"
   ],
   "metadata": {
    "collapsed": false,
    "pycharm": {
     "name": "#%% md\n"
    }
   }
  },
  {
   "cell_type": "code",
   "execution_count": 120,
   "outputs": [
    {
     "data": {
      "text/plain": "<Figure size 432x288 with 1 Axes>",
      "image/png": "[encoded data removed]"
     },
     "metadata": {
      "needs_background": "light"
     },
     "output_type": "display_data"
    }
   ],
   "source": [
    "plt.title('Рабочая характеристика')\n",
    "plt.plot(fpr, tpr, 'b', label = 'AUC = %0.2f' % roc_auc)\n",
    "plt.legend(loc = 'lower right')\n",
    "plt.plot([0, 1], [0, 1],'r--')\n",
    "plt.xlim([0, 1])\n",
    "plt.ylim([0, 1])\n",
    "plt.ylabel('True Positive Rate')\n",
    "plt.xlabel('False Positive Rate')\n",
    "plt.grid('on')\n",
    "plt.show()"
   ],
   "metadata": {
    "collapsed": false,
    "pycharm": {
     "name": "#%%\n"
    }
   }
  },
  {
   "cell_type": "markdown",
   "source": [
    "<h5>Вывод по пункту</h5>\n",
    "\n",
    "- В данном части был реализован наивный байесовский алгоритм с подбором оптимального значения alpha"
   ],
   "metadata": {
    "collapsed": false,
    "pycharm": {
     "name": "#%% md\n"
    }
   }
  },
  {
   "cell_type": "markdown",
   "source": [
    "<h3> 8. Найдём оптимальный параметр регуляризатора С для модели опорных векторов по метрикам precision и accuracy.</h3>\n",
    "\n",
    "- Задача SVM максимизировать зазор, разделяющий классы. Ширина зазора считается по формуле:\n",
    "\n",
    "<img src=\"source/ширина полосы.png\" tyle=\"text-align: center;line-height: 100%;\">\n",
    "\n",
    "- Если выборка линейно не разделима, то нужно ввести штраф С, который штрафует объекты за приближение к границе классов, увеличивая зазор между классами.\n",
    "\n",
    "<img src=\"source/Общий случай – линейно неразделимой выборки.png\" tyle=\"text-align: center;line-height: 100%;\">"
   ],
   "metadata": {
    "collapsed": false,
    "pycharm": {
     "name": "#%% md\n"
    }
   }
  },
  {
   "cell_type": "code",
   "execution_count": 121,
   "outputs": [
    {
     "name": "stderr",
     "output_type": "stream",
     "text": [
      "K:\\Project\\Python\\dynplanner-master\\venv\\lib\\site-packages\\sklearn\\metrics\\_classification.py:1318: UndefinedMetricWarning: Precision is ill-defined and being set to 0.0 due to no predicted samples. Use `zero_division` parameter to control this behavior.\n",
      "  _warn_prf(average, modifier, msg_start, len(result))\n"
     ]
    },
    {
     "name": "stdout",
     "output_type": "stream",
     "text": [
      "1.0\n"
     ]
    },
    {
     "data": {
      "text/plain": "SVC(C=1.4000000000000001, probability=True)"
     },
     "execution_count": 121,
     "metadata": {},
     "output_type": "execute_result"
    }
   ],
   "source": [
    "SVC_precision = []\n",
    "SVC_accuracy = []\n",
    "SVC_train_accuracy = []\n",
    "SVC_recall = []\n",
    "c_range = np.arange(0.1, 3, 0.1)\n",
    "for c in c_range:\n",
    "    svc = SVC(C=c)\n",
    "    svc.fit(X_train, y_train)\n",
    "    Y_predict = svc.predict(X_test)\n",
    "    Y_train_predict = svc.predict(X_train)\n",
    "    SVC_accuracy.append(metrics.accuracy_score(y_test, Y_predict))\n",
    "    SVC_precision.append(metrics.precision_score(y_test, Y_predict))\n",
    "    SVC_train_accuracy.append(metrics.accuracy_score(y_train, Y_train_predict))\n",
    "    SVC_recall.append(metrics.recall_score(y_test, Y_predict))\n",
    "\n",
    "SVC_matrix = np.matrix(np.c_[c_range, SVC_train_accuracy, SVC_accuracy, SVC_recall, SVC_precision])\n",
    "SVC_models = pd.DataFrame(data=SVC_matrix, columns=['C', 'train accuracy', 'test accuracy', 'test recall', 'test precision'])\n",
    "SVC_best_index = SVC_models['test precision'].idxmax()\n",
    "SVC_best_value = SVC_models['test precision'][SVC_best_index]\n",
    "print(SVC_best_value)\n",
    "SVC_best_index = SVC_models[SVC_models['test precision'] == SVC_best_value]['test accuracy'].idxmax()\n",
    "SVC_model = SVC(C=c_range[SVC_best_index], probability=True)\n",
    "SVC_model.fit(X_train, y_train)"
   ],
   "metadata": {
    "collapsed": false,
    "pycharm": {
     "name": "#%%\n"
    }
   }
  },
  {
   "cell_type": "markdown",
   "source": [
    "<h4> 8.1 Для SVC. Построим зависимость метрики accuracy на обучающих и тестовых данных от варьируемого параметра. Построить матрицы ошибок для модели с оптимальным выбранным параметром.</h4>"
   ],
   "metadata": {
    "collapsed": false,
    "pycharm": {
     "name": "#%% md\n"
    }
   }
  },
  {
   "cell_type": "code",
   "execution_count": 122,
   "outputs": [
    {
     "ename": "TypeError",
     "evalue": "'numpy.ndarray' object is not callable",
     "output_type": "error",
     "traceback": [
      "\u001B[1;31m---------------------------------------------------------------------------\u001B[0m",
      "\u001B[1;31mTypeError\u001B[0m                                 Traceback (most recent call last)",
      "\u001B[1;32m~\\AppData\\Local\\Temp/ipykernel_49044/3467379106.py\u001B[0m in \u001B[0;36m<module>\u001B[1;34m\u001B[0m\n\u001B[0;32m      7\u001B[0m \u001B[0mplt\u001B[0m\u001B[1;33m.\u001B[0m\u001B[0mxlabel\u001B[0m\u001B[1;33m(\u001B[0m\u001B[1;34m'C'\u001B[0m\u001B[1;33m)\u001B[0m\u001B[1;33m\u001B[0m\u001B[1;33m\u001B[0m\u001B[0m\n\u001B[0;32m      8\u001B[0m \u001B[0mplt\u001B[0m\u001B[1;33m.\u001B[0m\u001B[0mylabel\u001B[0m\u001B[1;33m(\u001B[0m\u001B[1;34m'metric'\u001B[0m\u001B[1;33m)\u001B[0m\u001B[1;33m\u001B[0m\u001B[1;33m\u001B[0m\u001B[0m\n\u001B[1;32m----> 9\u001B[1;33m \u001B[0mSVC_confusion_matrix\u001B[0m \u001B[1;33m=\u001B[0m \u001B[0mconfusion_matrix\u001B[0m\u001B[1;33m(\u001B[0m\u001B[0my_test\u001B[0m\u001B[1;33m,\u001B[0m \u001B[0mSVC_model\u001B[0m\u001B[1;33m.\u001B[0m\u001B[0mpredict\u001B[0m\u001B[1;33m(\u001B[0m\u001B[0mX_test\u001B[0m\u001B[1;33m)\u001B[0m\u001B[1;33m)\u001B[0m\u001B[1;33m\u001B[0m\u001B[1;33m\u001B[0m\u001B[0m\n\u001B[0m\u001B[0;32m     10\u001B[0m \u001B[0mpd\u001B[0m\u001B[1;33m.\u001B[0m\u001B[0mDataFrame\u001B[0m\u001B[1;33m(\u001B[0m\u001B[0mdata\u001B[0m  \u001B[1;33m=\u001B[0m  \u001B[0mSVC_confusion_matrix\u001B[0m\u001B[1;33m,\u001B[0m  \u001B[0mcolumns\u001B[0m  \u001B[1;33m=\u001B[0m  \u001B[1;33m[\u001B[0m\u001B[1;34m'predicted  ham'\u001B[0m\u001B[1;33m,\u001B[0m \u001B[1;34m'predicted spam'\u001B[0m\u001B[1;33m]\u001B[0m\u001B[1;33m,\u001B[0m \u001B[0mindex\u001B[0m \u001B[1;33m=\u001B[0m \u001B[1;33m[\u001B[0m\u001B[1;34m'actual ham'\u001B[0m\u001B[1;33m,\u001B[0m \u001B[1;34m'actual spam'\u001B[0m\u001B[1;33m]\u001B[0m\u001B[1;33m)\u001B[0m\u001B[1;33m\u001B[0m\u001B[1;33m\u001B[0m\u001B[0m\n",
      "\u001B[1;31mTypeError\u001B[0m: 'numpy.ndarray' object is not callable"
     ]
    },
    {
     "data": {
      "text/plain": "<Figure size 720x360 with 1 Axes>",
      "image/png": "[encoded data removed]"
     },
     "metadata": {
      "needs_background": "light"
     },
     "output_type": "display_data"
    }
   ],
   "source": [
    "plt.figure(figsize = [10,5])\n",
    "plt.plot(c_range, SVC_accuracy)\n",
    "plt.plot(c_range, SVC_precision)\n",
    "plt.plot(c_range, SVC_train_accuracy)\n",
    "plt.legend(['test acc','precision','train acc'])\n",
    "plt.grid('on')\n",
    "plt.xlabel('C')\n",
    "plt.ylabel('metric')\n",
    "SVC_confusion_matrix = confusion_matrix(y_test, SVC_model.predict(X_test))\n",
    "pd.DataFrame(data  =  SVC_confusion_matrix,  columns  =  ['predicted  ham', 'predicted spam'], index = ['actual ham', 'actual spam'])"
   ],
   "metadata": {
    "collapsed": false,
    "pycharm": {
     "name": "#%%\n"
    }
   }
  },
  {
   "cell_type": "markdown",
   "source": [
    "<h4> 8.2 Для SVC. Построить ROC-кривую и рассчитать метрику AUC-ROC.</h4>"
   ],
   "metadata": {
    "collapsed": false,
    "pycharm": {
     "name": "#%% md\n"
    }
   }
  },
  {
   "cell_type": "code",
   "execution_count": 124,
   "outputs": [
    {
     "data": {
      "text/plain": "<Figure size 432x288 with 1 Axes>",
      "image/png": "[encoded data removed]"
     },
     "metadata": {
      "needs_background": "light"
     },
     "output_type": "display_data"
    }
   ],
   "source": [
    "y_pred_pr = SVC_model.predict_proba(X_test)[:,1]\n",
    "fpr, tpr, threshold = metrics. roc_curve (y_test, y_pred_pr)\n",
    "roc_auc = metrics.auc(fpr, tpr)\n",
    "plt.title('Receiver Operating Characteristic')\n",
    "plt.plot(fpr, tpr, 'b', label = 'AUC = %0.2f' % roc_auc)\n",
    "plt.legend(loc = 'lower right')\n",
    "plt.plot([0, 1], [0, 1],'r--')\n",
    "plt.xlim([0, 1])\n",
    "plt.ylim([0, 1])\n",
    "plt.ylabel('True Positive Rate')\n",
    "plt.xlabel('False Positive Rate')\n",
    "plt.grid('on')\n",
    "plt.show()"
   ],
   "metadata": {
    "collapsed": false,
    "pycharm": {
     "name": "#%%\n"
    }
   }
  },
  {
   "cell_type": "markdown",
   "source": [
    "<h3>Вывод</h3>\n",
    "\n",
    " - В работе я ознакомился с метриками accuracy, precision и recall, по ним были выбраны лучшие параметры для MNB и SVC классификаторов, построил матрицы ошибок и AUC-ROC диаграммы."
   ],
   "metadata": {
    "collapsed": false,
    "pycharm": {
     "name": "#%% md\n"
    }
   }
  },
  {
   "cell_type": "code",
   "execution_count": null,
   "outputs": [],
   "source": [],
   "metadata": {
    "collapsed": false,
    "pycharm": {
     "name": "#%%\n"
    }
   }
  }
 ],
 "metadata": {
  "kernelspec": {
   "display_name": "Python 3",
   "language": "python",
   "name": "python3"
  },
  "language_info": {
   "codemirror_mode": {
    "name": "ipython",
    "version": 2
   },
   "file_extension": ".py",
   "mimetype": "text/x-python",
   "name": "python",
   "nbconvert_exporter": "python",
   "pygments_lexer": "ipython2",
   "version": "2.7.6"
  }
 },
 "nbformat": 4,
 "nbformat_minor": 0
}